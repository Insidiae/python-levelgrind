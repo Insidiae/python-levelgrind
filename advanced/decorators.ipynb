{
 "cells": [
  {
   "cell_type": "markdown",
   "metadata": {},
   "source": [
    "# Decorators"
   ]
  },
  {
   "cell_type": "markdown",
   "metadata": {},
   "source": [
    "## Higher Order Functions\n",
    "\n",
    "Higher Order Functions (HOF) are simply functions that return other functions, and/or accepts another function as an argument. "
   ]
  },
  {
   "cell_type": "code",
   "execution_count": 1,
   "metadata": {},
   "outputs": [],
   "source": [
    "def square(x):\n",
    "    return x*x\n",
    "\n",
    "def sum(n, func):\n",
    "    total = 0\n",
    "    for num in range(1, n+1):\n",
    "        total += func(num)\n",
    "    return total"
   ]
  },
  {
   "cell_type": "code",
   "execution_count": 2,
   "metadata": {},
   "outputs": [
    {
     "data": {
      "text/plain": [
       "385"
      ]
     },
     "execution_count": 2,
     "metadata": {},
     "output_type": "execute_result"
    }
   ],
   "source": [
    "sum(10, square)"
   ]
  },
  {
   "cell_type": "code",
   "execution_count": 3,
   "metadata": {},
   "outputs": [],
   "source": [
    "def get_multiple(x):\n",
    "    def multiply(num):\n",
    "        return x * num\n",
    "\n",
    "    return multiply"
   ]
  },
  {
   "cell_type": "code",
   "execution_count": 4,
   "metadata": {},
   "outputs": [
    {
     "data": {
      "text/plain": [
       "25"
      ]
     },
     "execution_count": 4,
     "metadata": {},
     "output_type": "execute_result"
    }
   ],
   "source": [
    "times_5 = get_multiple(5)\n",
    "times_5(5)"
   ]
  },
  {
   "cell_type": "markdown",
   "metadata": {},
   "source": [
    "## What are Decorators?\n",
    "\n",
    "Decorators are special kinds of higher order functions that wrap around other functions and enhance their behavior."
   ]
  },
  {
   "cell_type": "code",
   "execution_count": 5,
   "metadata": {},
   "outputs": [],
   "source": [
    "def shout(fn):\n",
    "    def wrapper():\n",
    "        res = fn()\n",
    "        return res.upper()\n",
    "\n",
    "    return wrapper"
   ]
  },
  {
   "cell_type": "code",
   "execution_count": 6,
   "metadata": {},
   "outputs": [
    {
     "data": {
      "text/plain": [
       "'HELLO!'"
      ]
     },
     "execution_count": 6,
     "metadata": {},
     "output_type": "execute_result"
    }
   ],
   "source": [
    "def greet():\n",
    "    return \"Hello!\"\n",
    "\n",
    "greet = shout(greet)\n",
    "greet()"
   ]
  },
  {
   "cell_type": "markdown",
   "metadata": {},
   "source": [
    "Decorators also have a special syntax using the `@` symbol before defining the wrapped function:"
   ]
  },
  {
   "cell_type": "code",
   "execution_count": 7,
   "metadata": {},
   "outputs": [
    {
     "data": {
      "text/plain": [
       "'OI THERE MATE'"
      ]
     },
     "execution_count": 7,
     "metadata": {},
     "output_type": "execute_result"
    }
   ],
   "source": [
    "@shout\n",
    "def greet2():\n",
    "    return \"oi there mate\"\n",
    "\n",
    "greet2()"
   ]
  },
  {
   "cell_type": "markdown",
   "metadata": {},
   "source": [
    "You can also accept arguments within decorator functions like so:"
   ]
  },
  {
   "cell_type": "code",
   "execution_count": 8,
   "metadata": {},
   "outputs": [],
   "source": [
    "def shout(fn):\n",
    "    def wrapper(*args, **kwargs):\n",
    "        res = fn(*args, **kwargs)\n",
    "        return res.upper()\n",
    "\n",
    "    return wrapper"
   ]
  },
  {
   "cell_type": "code",
   "execution_count": 9,
   "metadata": {},
   "outputs": [],
   "source": [
    "@shout\n",
    "def order(*items):\n",
    "    return f\"I'll have {', '.join(items)}\""
   ]
  },
  {
   "cell_type": "code",
   "execution_count": 10,
   "metadata": {},
   "outputs": [
    {
     "data": {
      "text/plain": [
       "\"I'LL HAVE TWO NUMBER 9S, A NUMBER 9 LARGE, A NUMBER 6 WITH EXTRA DIP, A NUMBER 7, TWO NUMBER 45S, ONE WITH CHEESE, AND A LARGE SODA\""
      ]
     },
     "execution_count": 10,
     "metadata": {},
     "output_type": "execute_result"
    }
   ],
   "source": [
    "\n",
    "order(\n",
    "    \"two number 9s\",\n",
    "    \"a number 9 large\",\n",
    "    \"a number 6 with extra dip\",\n",
    "    \"a number 7\",\n",
    "    \"two number 45s, one with cheese\",\n",
    "    \"and a large soda\"\n",
    ")"
   ]
  },
  {
   "cell_type": "markdown",
   "metadata": {},
   "source": [
    "### Preserving Metadata Within Decorators using `wraps`\n",
    "\n",
    "Using decorators to wrap functions, you might initially think you still have the usual access to some helpful properties such as docstrings, but it isn't that simple.\n",
    "\n",
    "Take a look at this example:"
   ]
  },
  {
   "cell_type": "code",
   "execution_count": 11,
   "metadata": {},
   "outputs": [],
   "source": [
    "def log_function_data(fn):\n",
    "    def wrapper(*args, **kwargs):\n",
    "        print(f\"You are about to call: {fn.__name__}\")\n",
    "        print(f\"Hete's the documentation: {fn.__doc__}\")\n",
    "        return fn(*args, **kwargs)\n",
    "\n",
    "    return wrapper\n",
    "\n",
    "@log_function_data\n",
    "def add(x, y):\n",
    "    \"\"\"Adds two numbers together.\"\"\"\n",
    "    return x + y"
   ]
  },
  {
   "cell_type": "code",
   "execution_count": 12,
   "metadata": {},
   "outputs": [
    {
     "name": "stdout",
     "output_type": "stream",
     "text": [
      "You are about to call: add\n",
      "Hete's the documentation: Adds two numbers together.\n"
     ]
    },
    {
     "data": {
      "text/plain": [
       "3"
      ]
     },
     "execution_count": 12,
     "metadata": {},
     "output_type": "execute_result"
    }
   ],
   "source": [
    "add(1, 2)"
   ]
  },
  {
   "cell_type": "markdown",
   "metadata": {},
   "source": [
    "You can see that the `add` function's `__name__` and `__doc__` attributes can still be accessed within the decorator function, but let's see what happens when we try to call `help`:"
   ]
  },
  {
   "cell_type": "code",
   "execution_count": 13,
   "metadata": {},
   "outputs": [
    {
     "name": "stdout",
     "output_type": "stream",
     "text": [
      "Help on function wrapper in module __main__:\n",
      "\n",
      "wrapper(*args, **kwargs)\n",
      "\n"
     ]
    }
   ],
   "source": [
    "help(add)"
   ]
  },
  {
   "cell_type": "markdown",
   "metadata": {},
   "source": [
    "Fortunately, Python has a useful built-in tool to preserve these important metadata of our wrapped functions:"
   ]
  },
  {
   "cell_type": "code",
   "execution_count": 14,
   "metadata": {},
   "outputs": [],
   "source": [
    "from functools import wraps\n",
    "\n",
    "def log_function_data(fn):\n",
    "    @wraps(fn)\n",
    "    def wrapper(*args, **kwargs):\n",
    "        print(f\"You are about to call: {fn.__name__}\")\n",
    "        print(f\"Hete's the documentation: {fn.__doc__}\")\n",
    "        return fn(*args, **kwargs)\n",
    "\n",
    "    return wrapper\n",
    "\n",
    "@log_function_data\n",
    "def add(x, y):\n",
    "    \"\"\"Adds two numbers together.\"\"\"\n",
    "    return x + y"
   ]
  },
  {
   "cell_type": "code",
   "execution_count": 15,
   "metadata": {},
   "outputs": [
    {
     "name": "stdout",
     "output_type": "stream",
     "text": [
      "You are about to call: add\n",
      "Hete's the documentation: Adds two numbers together.\n"
     ]
    },
    {
     "data": {
      "text/plain": [
       "3"
      ]
     },
     "execution_count": 15,
     "metadata": {},
     "output_type": "execute_result"
    }
   ],
   "source": [
    "add(1, 2)"
   ]
  },
  {
   "cell_type": "code",
   "execution_count": 16,
   "metadata": {},
   "outputs": [
    {
     "name": "stdout",
     "output_type": "stream",
     "text": [
      "Help on function add in module __main__:\n",
      "\n",
      "add(x, y)\n",
      "    Adds two numbers together.\n",
      "\n"
     ]
    }
   ],
   "source": [
    "help(add)"
   ]
  },
  {
   "cell_type": "markdown",
   "metadata": {},
   "source": [
    "### Passing Arguments to Decorators\n",
    "\n",
    "See that `@wraps(fn)` decorator above? We can actually pass arguments to decorators, however there would be an extra step to accommodate that first argument:"
   ]
  },
  {
   "cell_type": "code",
   "execution_count": 17,
   "metadata": {},
   "outputs": [],
   "source": [
    "def get_multiple(x):\n",
    "    def inner(fn):\n",
    "        @wraps(fn)\n",
    "        def wrapper(num):\n",
    "            return x * num\n",
    "        return wrapper\n",
    "    return inner"
   ]
  },
  {
   "cell_type": "code",
   "execution_count": 18,
   "metadata": {},
   "outputs": [
    {
     "data": {
      "text/plain": [
       "50"
      ]
     },
     "execution_count": 18,
     "metadata": {},
     "output_type": "execute_result"
    }
   ],
   "source": [
    "@get_multiple(5)\n",
    "def times_5(num):\n",
    "    return num\n",
    "\n",
    "times_5(10)"
   ]
  },
  {
   "cell_type": "code",
   "execution_count": 19,
   "metadata": {},
   "outputs": [
    {
     "data": {
      "text/plain": [
       "483"
      ]
     },
     "execution_count": 19,
     "metadata": {},
     "output_type": "execute_result"
    }
   ],
   "source": [
    "@get_multiple(7)\n",
    "def times_7(num):\n",
    "    return num\n",
    "\n",
    "times_7(69)"
   ]
  }
 ],
 "metadata": {
  "interpreter": {
   "hash": "627bc1dc5605f05dc37c8e2d8aef233aa0f653871f776dbfe042e2630fc393a3"
  },
  "kernelspec": {
   "display_name": "Python 3.9.1 64-bit ('base': conda)",
   "language": "python",
   "name": "python3"
  },
  "language_info": {
   "codemirror_mode": {
    "name": "ipython",
    "version": 3
   },
   "file_extension": ".py",
   "mimetype": "text/x-python",
   "name": "python",
   "nbconvert_exporter": "python",
   "pygments_lexer": "ipython3",
   "version": "3.9.1"
  },
  "orig_nbformat": 4
 },
 "nbformat": 4,
 "nbformat_minor": 2
}
