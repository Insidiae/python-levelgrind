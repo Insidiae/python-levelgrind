{
 "metadata": {
  "language_info": {
   "codemirror_mode": {
    "name": "ipython",
    "version": 3
   },
   "file_extension": ".py",
   "mimetype": "text/x-python",
   "name": "python",
   "nbconvert_exporter": "python",
   "pygments_lexer": "ipython3",
   "version": "3.9.1"
  },
  "orig_nbformat": 2,
  "kernelspec": {
   "name": "python391jvsc74a57bd0627bc1dc5605f05dc37c8e2d8aef233aa0f653871f776dbfe042e2630fc393a3",
   "display_name": "Python 3.9.1 64-bit (conda)"
  }
 },
 "nbformat": 4,
 "nbformat_minor": 2,
 "cells": [
  {
   "source": [
    "# Functions\n",
    "\n",
    "A function is a process for executing certain tasks. Functions help make code reusable by having parts of your code packed up in packages that can be re-run later. Functions can also accept inputs and have different processes or outputs depending on the inputs passed into the function.\n",
    "\n",
    "We've already encountered functions - in fact, we've alredy been using some of Python's many built-in functions throughout the course!"
   ],
   "cell_type": "markdown",
   "metadata": {}
  },
  {
   "cell_type": "code",
   "execution_count": 1,
   "metadata": {},
   "outputs": [
    {
     "output_type": "stream",
     "name": "stdout",
     "text": [
      "Hello, I am a function!\n"
     ]
    }
   ],
   "source": [
    "print(\"Hello, I am a function!\")"
   ]
  },
  {
   "source": [
    "## Defining Our Own Functions\n",
    "\n",
    "Functions are defined using the `def` keyword, followed by the name of the function, parentheses, and a colon. The code inside the function, called the *function body*, is characterized by their indentation, just like the code inside if/else blocks and loops."
   ],
   "cell_type": "markdown",
   "metadata": {}
  },
  {
   "cell_type": "code",
   "execution_count": 2,
   "metadata": {},
   "outputs": [],
   "source": [
    "def say_hello():\n",
    "    print(\"Hello!\")"
   ]
  },
  {
   "source": [
    "To call the function you just created, just use the function name followed by parentheses:"
   ],
   "cell_type": "markdown",
   "metadata": {}
  },
  {
   "cell_type": "code",
   "execution_count": 3,
   "metadata": {},
   "outputs": [
    {
     "output_type": "stream",
     "name": "stdout",
     "text": [
      "Hello!\n"
     ]
    }
   ],
   "source": [
    "say_hello()"
   ]
  },
  {
   "source": [
    "Functions can also accept values (called the *parameters* or *arguments*) which are essentially going to be variables exclusive to that function and can be used at any time within the function body:"
   ],
   "cell_type": "markdown",
   "metadata": {}
  },
  {
   "cell_type": "code",
   "execution_count": 4,
   "metadata": {},
   "outputs": [],
   "source": [
    "def greet(name):\n",
    "    print(f\"Howdy, {name}!\")"
   ]
  },
  {
   "source": [
    "And then we just pass along the values inside the parentheses when we call the function:"
   ],
   "cell_type": "markdown",
   "metadata": {}
  },
  {
   "cell_type": "code",
   "execution_count": 5,
   "metadata": {},
   "outputs": [
    {
     "output_type": "stream",
     "name": "stdout",
     "text": [
      "Howdy, John!\n"
     ]
    }
   ],
   "source": [
    "greet(\"John\")"
   ]
  },
  {
   "source": [
    "Functions can also return certain values using the intuitively named `return` keyword:"
   ],
   "cell_type": "markdown",
   "metadata": {}
  },
  {
   "cell_type": "code",
   "execution_count": 6,
   "metadata": {},
   "outputs": [],
   "source": [
    "def cube(num):\n",
    "    return num ** 3"
   ]
  },
  {
   "source": [
    "You can then call the function ike usual and get some returned value back:"
   ],
   "cell_type": "markdown",
   "metadata": {}
  },
  {
   "cell_type": "code",
   "execution_count": 7,
   "metadata": {},
   "outputs": [
    {
     "output_type": "execute_result",
     "data": {
      "text/plain": [
       "8"
      ]
     },
     "metadata": {},
     "execution_count": 7
    }
   ],
   "source": [
    "cube(2)"
   ]
  },
  {
   "source": [
    "You can also store the value returned by the function into a separate variable:"
   ],
   "cell_type": "markdown",
   "metadata": {}
  },
  {
   "cell_type": "code",
   "execution_count": 8,
   "metadata": {},
   "outputs": [
    {
     "output_type": "execute_result",
     "data": {
      "text/plain": [
       "27"
      ]
     },
     "metadata": {},
     "execution_count": 8
    }
   ],
   "source": [
    "cube_of_3 = cube(3)\n",
    "cube_of_3"
   ]
  },
  {
   "source": [
    "You can even call the function within comprehensions and use the function to store its returned values in the newly created object:"
   ],
   "cell_type": "markdown",
   "metadata": {}
  },
  {
   "source": [
    "[cube(val) for val in range(1,11)]"
   ],
   "cell_type": "code",
   "metadata": {},
   "execution_count": 9,
   "outputs": [
    {
     "output_type": "execute_result",
     "data": {
      "text/plain": [
       "[1, 8, 27, 64, 125, 216, 343, 512, 729, 1000]"
      ]
     },
     "metadata": {},
     "execution_count": 9
    }
   ]
  },
  {
   "source": [
    "You can also use the `return` keyword to exit the function early:"
   ],
   "cell_type": "markdown",
   "metadata": {}
  },
  {
   "cell_type": "code",
   "execution_count": 10,
   "metadata": {},
   "outputs": [
    {
     "output_type": "stream",
     "name": "stdout",
     "text": [
      "Screw this, I'm outta here!\n"
     ]
    }
   ],
   "source": [
    "def early_return():\n",
    "    print(\"Screw this, I'm outta here!\")\n",
    "    return\n",
    "    print(\"Hey what about me?\")\n",
    "\n",
    "early_return()"
   ]
  },
  {
   "source": [
    "## Default Parameters\n",
    "\n",
    "You can specify a default value for the function's parameter/s in case the user does not specify them, or if you want to specify optional parameters that affect the logic inside the function body but does not require the user to pass those parameters into the function every time.\n",
    "\n",
    "You can specify default values for a parameter by simply putting an equal sign followed by the default value after the parameter:"
   ],
   "cell_type": "markdown",
   "metadata": {}
  },
  {
   "cell_type": "code",
   "execution_count": 11,
   "metadata": {},
   "outputs": [],
   "source": [
    "def say_hi(name=\"Insert_Name_Here\"):\n",
    "    print(f\"Hi, {name}!\")"
   ]
  },
  {
   "source": [
    "You can then call the function without specifying the parameter/s that have default values:"
   ],
   "cell_type": "markdown",
   "metadata": {}
  },
  {
   "cell_type": "code",
   "execution_count": 12,
   "metadata": {},
   "outputs": [
    {
     "output_type": "stream",
     "name": "stdout",
     "text": [
      "Hi, Insert_Name_Here!\n"
     ]
    }
   ],
   "source": [
    "say_hi()"
   ]
  },
  {
   "source": [
    "And the values you *do* pass to the function would still get treated as normal:"
   ],
   "cell_type": "markdown",
   "metadata": {}
  },
  {
   "cell_type": "code",
   "execution_count": 13,
   "metadata": {},
   "outputs": [
    {
     "output_type": "stream",
     "name": "stdout",
     "text": [
      "Hi, Jerome!\n"
     ]
    }
   ],
   "source": [
    "say_hi(\"Jerome\")"
   ]
  },
  {
   "source": [
    "## Keyword Arguments\n",
    "\n",
    "Consider the following function:"
   ],
   "cell_type": "markdown",
   "metadata": {}
  },
  {
   "cell_type": "code",
   "execution_count": 14,
   "metadata": {},
   "outputs": [],
   "source": [
    "def print_full_name(first, last):\n",
    "    print(f\"{first} {last}\")"
   ]
  },
  {
   "source": [
    "You'd typically need to pass values to the function in the specific order the parameters are set in:"
   ],
   "cell_type": "markdown",
   "metadata": {}
  },
  {
   "cell_type": "code",
   "execution_count": 15,
   "metadata": {},
   "outputs": [
    {
     "output_type": "stream",
     "name": "stdout",
     "text": [
      "John Smith\n"
     ]
    }
   ],
   "source": [
    "print_full_name(\"John\", \"Smith\")"
   ]
  },
  {
   "source": [
    "With keyword arguments, you can directly set values on the function parameters, regardless of order:"
   ],
   "cell_type": "markdown",
   "metadata": {}
  },
  {
   "cell_type": "code",
   "execution_count": 16,
   "metadata": {},
   "outputs": [
    {
     "output_type": "stream",
     "name": "stdout",
     "text": [
      "John Smith\n"
     ]
    }
   ],
   "source": [
    "print_full_name(last=\"Smith\", first=\"John\")"
   ]
  },
  {
   "source": [
    "## Scope\n",
    "\n",
    "Variables defined inside a function are *scoped* to that function, meaning you can only access it within the body of that function:"
   ],
   "cell_type": "markdown",
   "metadata": {}
  },
  {
   "cell_type": "code",
   "execution_count": 17,
   "metadata": {},
   "outputs": [],
   "source": [
    "def sneaky():\n",
    "    super_secret_password = \"wowomgzomg42069\"\n",
    "    print(\"You'll never guess my super secret password!!!\")"
   ]
  },
  {
   "source": [
    "Trying to get `super_secret_password` anywhere else, be it outside the `sneaky()` function or even within other functions, will just result in an error (unless, of course, they also have their *own* `super_secret_password`!)"
   ],
   "cell_type": "markdown",
   "metadata": {}
  },
  {
   "cell_type": "code",
   "execution_count": 18,
   "metadata": {},
   "outputs": [
    {
     "output_type": "error",
     "ename": "NameError",
     "evalue": "name 'super_secret_password' is not defined",
     "traceback": [
      "\u001b[1;31m---------------------------------------------------------------------------\u001b[0m",
      "\u001b[1;31mNameError\u001b[0m                                 Traceback (most recent call last)",
      "\u001b[1;32m<ipython-input-18-f8bf1e3b8193>\u001b[0m in \u001b[0;36m<module>\u001b[1;34m\u001b[0m\n\u001b[1;32m----> 1\u001b[1;33m \u001b[0msuper_secret_password\u001b[0m\u001b[1;33m\u001b[0m\u001b[1;33m\u001b[0m\u001b[0m\n\u001b[0m",
      "\u001b[1;31mNameError\u001b[0m: name 'super_secret_password' is not defined"
     ]
    }
   ],
   "source": [
    "super_secret_password"
   ]
  },
  {
   "cell_type": "code",
   "execution_count": 19,
   "metadata": {},
   "outputs": [
    {
     "output_type": "error",
     "ename": "NameError",
     "evalue": "name 'super_secret_password' is not defined",
     "traceback": [
      "\u001b[1;31m---------------------------------------------------------------------------\u001b[0m",
      "\u001b[1;31mNameError\u001b[0m                                 Traceback (most recent call last)",
      "\u001b[1;32m<ipython-input-19-4756c198f885>\u001b[0m in \u001b[0;36m<module>\u001b[1;34m\u001b[0m\n\u001b[0;32m      1\u001b[0m \u001b[1;32mdef\u001b[0m \u001b[0mn00b_h4x0r\u001b[0m\u001b[1;33m(\u001b[0m\u001b[1;33m)\u001b[0m\u001b[1;33m:\u001b[0m\u001b[1;33m\u001b[0m\u001b[1;33m\u001b[0m\u001b[0m\n\u001b[0;32m      2\u001b[0m     \u001b[0mprint\u001b[0m\u001b[1;33m(\u001b[0m\u001b[0msuper_secret_password\u001b[0m\u001b[1;33m)\u001b[0m\u001b[1;33m\u001b[0m\u001b[1;33m\u001b[0m\u001b[0m\n\u001b[1;32m----> 3\u001b[1;33m \u001b[0mn00b_h4x0r\u001b[0m\u001b[1;33m(\u001b[0m\u001b[1;33m)\u001b[0m\u001b[1;33m\u001b[0m\u001b[1;33m\u001b[0m\u001b[0m\n\u001b[0m",
      "\u001b[1;32m<ipython-input-19-4756c198f885>\u001b[0m in \u001b[0;36mn00b_h4x0r\u001b[1;34m()\u001b[0m\n\u001b[0;32m      1\u001b[0m \u001b[1;32mdef\u001b[0m \u001b[0mn00b_h4x0r\u001b[0m\u001b[1;33m(\u001b[0m\u001b[1;33m)\u001b[0m\u001b[1;33m:\u001b[0m\u001b[1;33m\u001b[0m\u001b[1;33m\u001b[0m\u001b[0m\n\u001b[1;32m----> 2\u001b[1;33m     \u001b[0mprint\u001b[0m\u001b[1;33m(\u001b[0m\u001b[0msuper_secret_password\u001b[0m\u001b[1;33m)\u001b[0m\u001b[1;33m\u001b[0m\u001b[1;33m\u001b[0m\u001b[0m\n\u001b[0m\u001b[0;32m      3\u001b[0m \u001b[0mn00b_h4x0r\u001b[0m\u001b[1;33m(\u001b[0m\u001b[1;33m)\u001b[0m\u001b[1;33m\u001b[0m\u001b[1;33m\u001b[0m\u001b[0m\n",
      "\u001b[1;31mNameError\u001b[0m: name 'super_secret_password' is not defined"
     ]
    }
   ],
   "source": [
    "def n00b_h4x0r():\n",
    "    print(super_secret_password)\n",
    "n00b_h4x0r()"
   ]
  },
  {
   "source": [
    "Of course, you can still define the `super_secret_password` somewhere else (perhaps in another function), but the `super_secret_password` you define there would typically not be the same as the one in `sneaky()`:"
   ],
   "cell_type": "markdown",
   "metadata": {}
  },
  {
   "cell_type": "code",
   "execution_count": 20,
   "metadata": {},
   "outputs": [
    {
     "output_type": "stream",
     "name": "stdout",
     "text": [
      "I have my own super secret password too!\n"
     ]
    }
   ],
   "source": [
    "def sneaky2():\n",
    "    super_secret_password = \"1337\"\n",
    "    if super_secret_password == \"1337\":\n",
    "        print(\"I have my own super secret password too!\")\n",
    "sneaky2()"
   ]
  },
  {
   "source": [
    "### Global variables\n",
    "\n",
    "Variables declared outside of functions are called *global variables*. In Python, global variables also have their own scope and thus will not be immediately fully available inside other functions.\n",
    "\n",
    "Consider the following example: "
   ],
   "cell_type": "markdown",
   "metadata": {}
  },
  {
   "cell_type": "code",
   "execution_count": 21,
   "metadata": {},
   "outputs": [],
   "source": [
    "total = 0"
   ]
  },
  {
   "source": [
    "We can *access* the value of `total` inside other functions:"
   ],
   "cell_type": "markdown",
   "metadata": {}
  },
  {
   "cell_type": "code",
   "execution_count": 22,
   "metadata": {},
   "outputs": [
    {
     "output_type": "stream",
     "name": "stdout",
     "text": [
      "0\n"
     ]
    }
   ],
   "source": [
    "def print_total():\n",
    "    print(total)\n",
    "print_total()"
   ]
  },
  {
   "source": [
    "If we try to modify `total` inside a function, it would just result in an error:"
   ],
   "cell_type": "markdown",
   "metadata": {}
  },
  {
   "cell_type": "code",
   "execution_count": 23,
   "metadata": {},
   "outputs": [
    {
     "output_type": "error",
     "ename": "UnboundLocalError",
     "evalue": "local variable 'total' referenced before assignment",
     "traceback": [
      "\u001b[1;31m---------------------------------------------------------------------------\u001b[0m",
      "\u001b[1;31mUnboundLocalError\u001b[0m                         Traceback (most recent call last)",
      "\u001b[1;32m<ipython-input-23-5d5910417578>\u001b[0m in \u001b[0;36m<module>\u001b[1;34m\u001b[0m\n\u001b[0;32m      1\u001b[0m \u001b[1;32mdef\u001b[0m \u001b[0mincrement_total\u001b[0m\u001b[1;33m(\u001b[0m\u001b[1;33m)\u001b[0m\u001b[1;33m:\u001b[0m\u001b[1;33m\u001b[0m\u001b[1;33m\u001b[0m\u001b[0m\n\u001b[0;32m      2\u001b[0m     \u001b[0mtotal\u001b[0m \u001b[1;33m+=\u001b[0m \u001b[1;36m1\u001b[0m\u001b[1;33m\u001b[0m\u001b[1;33m\u001b[0m\u001b[0m\n\u001b[1;32m----> 3\u001b[1;33m \u001b[0mincrement_total\u001b[0m\u001b[1;33m(\u001b[0m\u001b[1;33m)\u001b[0m\u001b[1;33m\u001b[0m\u001b[1;33m\u001b[0m\u001b[0m\n\u001b[0m",
      "\u001b[1;32m<ipython-input-23-5d5910417578>\u001b[0m in \u001b[0;36mincrement_total\u001b[1;34m()\u001b[0m\n\u001b[0;32m      1\u001b[0m \u001b[1;32mdef\u001b[0m \u001b[0mincrement_total\u001b[0m\u001b[1;33m(\u001b[0m\u001b[1;33m)\u001b[0m\u001b[1;33m:\u001b[0m\u001b[1;33m\u001b[0m\u001b[1;33m\u001b[0m\u001b[0m\n\u001b[1;32m----> 2\u001b[1;33m     \u001b[0mtotal\u001b[0m \u001b[1;33m+=\u001b[0m \u001b[1;36m1\u001b[0m\u001b[1;33m\u001b[0m\u001b[1;33m\u001b[0m\u001b[0m\n\u001b[0m\u001b[0;32m      3\u001b[0m \u001b[0mincrement_total\u001b[0m\u001b[1;33m(\u001b[0m\u001b[1;33m)\u001b[0m\u001b[1;33m\u001b[0m\u001b[1;33m\u001b[0m\u001b[0m\n",
      "\u001b[1;31mUnboundLocalError\u001b[0m: local variable 'total' referenced before assignment"
     ]
    }
   ],
   "source": [
    "def increment_total():\n",
    "    total += 1\n",
    "increment_total()"
   ]
  },
  {
   "source": [
    "Fortunately, Python offers the `global` keyword which does let us modify global variables inside functions:"
   ],
   "cell_type": "markdown",
   "metadata": {}
  },
  {
   "cell_type": "code",
   "execution_count": 24,
   "metadata": {},
   "outputs": [],
   "source": [
    "def increment_global_total():\n",
    "    global total\n",
    "    total += 1"
   ]
  },
  {
   "source": [
    "Now we should be able to access and even the `total` variable without any issues:"
   ],
   "cell_type": "markdown",
   "metadata": {}
  },
  {
   "cell_type": "code",
   "execution_count": 25,
   "metadata": {},
   "outputs": [
    {
     "output_type": "execute_result",
     "data": {
      "text/plain": [
       "1"
      ]
     },
     "metadata": {},
     "execution_count": 25
    }
   ],
   "source": [
    "increment_global_total()\n",
    "total"
   ]
  },
  {
   "source": [
    "### Nonlocal variables\n",
    "\n",
    "Similar to global variables, there's also a separate scope for nested functions, or functions that are inside other functions. Like global variables, the variables declared in the outer function will not be fully available inside the inner function/s, but you can use the `nonlocal` keyword to modify the outer function's variables from within an inner function:"
   ],
   "cell_type": "markdown",
   "metadata": {}
  },
  {
   "cell_type": "code",
   "execution_count": 26,
   "metadata": {},
   "outputs": [
    {
     "output_type": "execute_result",
     "data": {
      "text/plain": [
       "1"
      ]
     },
     "metadata": {},
     "execution_count": 26
    }
   ],
   "source": [
    "def outer():\n",
    "    count = 0\n",
    "    def inner():\n",
    "        nonlocal count\n",
    "        count += 1\n",
    "        return count\n",
    "    return inner()\n",
    "\n",
    "outer()"
   ]
  },
  {
   "source": [
    "## Docstrings\n",
    "\n",
    "Docstrings are a simple way to *document* what a function does. To create a docstring for a function, simply use three quotation marks in a row (`'''` or `\"\"\"`) like so:"
   ],
   "cell_type": "markdown",
   "metadata": {}
  },
  {
   "cell_type": "code",
   "execution_count": 27,
   "metadata": {},
   "outputs": [],
   "source": [
    "def hello_docstrings():\n",
    "    \"\"\"Prints out the string \"hello\".\"\"\"\n",
    "    print(\"hello\")"
   ]
  },
  {
   "source": [
    "You can see the docstring you just wrote by using the `__doc__` method:"
   ],
   "cell_type": "markdown",
   "metadata": {}
  },
  {
   "cell_type": "code",
   "execution_count": 28,
   "metadata": {},
   "outputs": [
    {
     "output_type": "execute_result",
     "data": {
      "text/plain": [
       "'Prints out the string \"hello\".'"
      ]
     },
     "metadata": {},
     "execution_count": 28
    }
   ],
   "source": [
    "hello_docstrings.__doc__"
   ]
  },
  {
   "source": [
    "Your code editor will also show the docstring when you call the function later. Pretty cool stuff!"
   ],
   "cell_type": "markdown",
   "metadata": {}
  }
 ]
}