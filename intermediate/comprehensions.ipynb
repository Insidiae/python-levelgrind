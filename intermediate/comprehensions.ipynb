{
 "metadata": {
  "language_info": {
   "codemirror_mode": {
    "name": "ipython",
    "version": 3
   },
   "file_extension": ".py",
   "mimetype": "text/x-python",
   "name": "python",
   "nbconvert_exporter": "python",
   "pygments_lexer": "ipython3",
   "version": "3.9.1"
  },
  "orig_nbformat": 2,
  "kernelspec": {
   "name": "python391jvsc74a57bd0627bc1dc5605f05dc37c8e2d8aef233aa0f653871f776dbfe042e2630fc393a3",
   "display_name": "Python 3.9.1 64-bit (conda)"
  }
 },
 "nbformat": 4,
 "nbformat_minor": 2,
 "cells": [
  {
   "source": [
    "# Comprehensions\n",
    "\n",
    "Comprehensions are one of the more powerful features offered by Python. In a nutshell, comprehensions are a shorthand syntax that allows you to create new data structures (i.e. Lists, Dictionaries, and Sets) based on other existing ones.\n",
    "\n",
    "## List Comprehensions\n",
    "\n",
    "List comprehensions allow you to create a new list using other existing lists as a base. Generally, list comprehensions are used to perform some operation on an iterable object/s, and store the result of those operations in a new list. To understand list comprehensions, take a look at the following syntax:"
   ],
   "cell_type": "markdown",
   "metadata": {}
  },
  {
   "cell_type": "code",
   "execution_count": 1,
   "metadata": {},
   "outputs": [],
   "source": [
    "num_list = [0, 1, 2, 3, 4, 5]\n",
    "squared_list = [num*num for num in num_list]"
   ]
  },
  {
   "source": [
    "In the above syntax, we just used list comprehensions to create a new list called `squared_list` where each element is the square of the corresponding element of `num_list`:"
   ],
   "cell_type": "markdown",
   "metadata": {}
  },
  {
   "cell_type": "code",
   "execution_count": 2,
   "metadata": {},
   "outputs": [
    {
     "output_type": "execute_result",
     "data": {
      "text/plain": [
       "[0, 1, 4, 9, 16, 25]"
      ]
     },
     "metadata": {},
     "execution_count": 2
    }
   ],
   "source": [
    "squared_list"
   ]
  },
  {
   "source": [
    "Notice that we can essentially achieve the same result using regular loops:"
   ],
   "cell_type": "markdown",
   "metadata": {}
  },
  {
   "cell_type": "code",
   "execution_count": 3,
   "metadata": {},
   "outputs": [
    {
     "output_type": "execute_result",
     "data": {
      "text/plain": [
       "[0, 2, 4, 6, 8, 10]"
      ]
     },
     "metadata": {},
     "execution_count": 3
    }
   ],
   "source": [
    "doubled_list = []\n",
    "\n",
    "for num in num_list:\n",
    "    doubled_num = num * 2\n",
    "    doubled_list.append(doubled_num)\n",
    "\n",
    "doubled_list"
   ]
  },
  {
   "source": [
    "You can also add contidional operations to list comprehensions to selectively store items in the new list:"
   ],
   "cell_type": "markdown",
   "metadata": {}
  },
  {
   "cell_type": "code",
   "execution_count": 4,
   "metadata": {},
   "outputs": [
    {
     "output_type": "execute_result",
     "data": {
      "text/plain": [
       "[1, 3, 5, 7, 9]"
      ]
     },
     "metadata": {},
     "execution_count": 4
    }
   ],
   "source": [
    "odd_list = [num for num in range(1,10) if num % 2 == 1]\n",
    "odd_list"
   ]
  },
  {
   "cell_type": "code",
   "execution_count": 5,
   "metadata": {},
   "outputs": [
    {
     "output_type": "execute_result",
     "data": {
      "text/plain": [
       "[0.5, 4, 1.5, 8, 2.5, 12, 3.5, 16, 4.5]"
      ]
     },
     "metadata": {},
     "execution_count": 5
    }
   ],
   "source": [
    "half_or_double = [num / 2 if num % 2 == 1 else num * 2 for num in range(1,10)]\n",
    "half_or_double"
   ]
  },
  {
   "source": [
    "You can filter out items using conditional logic in list comprehensions:"
   ],
   "cell_type": "markdown",
   "metadata": {}
  },
  {
   "cell_type": "code",
   "execution_count": 6,
   "metadata": {},
   "outputs": [
    {
     "output_type": "execute_result",
     "data": {
      "text/plain": [
       "'Ths s s mch fn!'"
      ]
     },
     "metadata": {},
     "execution_count": 6
    }
   ],
   "source": [
    "with_vowels = \"This is so much fun!\"\n",
    "''.join([char for char in with_vowels if char not in \"aeiou\"])"
   ]
  },
  {
   "source": [
    "You can also perform list comprehensions on nested lists:"
   ],
   "cell_type": "markdown",
   "metadata": {}
  },
  {
   "cell_type": "code",
   "execution_count": 7,
   "metadata": {},
   "outputs": [
    {
     "output_type": "execute_result",
     "data": {
      "text/plain": [
       "[[1, 5, 9], [2, 6, 10], [3, 7, 11], [4, 8, 12]]"
      ]
     },
     "metadata": {},
     "execution_count": 7
    }
   ],
   "source": [
    "matrix = [[1, 2, 3, 4], [5, 6, 7, 8], [9, 10, 11, 12]]\n",
    "transposed_matrix = [[row[i] for row in matrix] for i in (0, 1, 2, 3)]\n",
    "transposed_matrix"
   ]
  },
  {
   "source": [
    "List comprehensions offer a concise way to create new lists based on existing lists, letting you iterate over the existing list and store the result of some operation in a brand new list, all in just one line of code!"
   ],
   "cell_type": "markdown",
   "metadata": {}
  },
  {
   "source": [
    "## Dictionary Comprehensions\n",
    "\n",
    "Just like lists, you can also use comprehensions within dictionaries. Dictionary comprehensions iterate over keys by default, however you can also use the `items()` method to iterate over the key-value pairs instead."
   ],
   "cell_type": "markdown",
   "metadata": {}
  },
  {
   "cell_type": "code",
   "execution_count": 8,
   "metadata": {},
   "outputs": [
    {
     "output_type": "execute_result",
     "data": {
      "text/plain": [
       "{'Star': 'Platinum',\n",
       " 'Magician': 'Red',\n",
       " 'Hermit': 'Purple',\n",
       " 'Hierophant': 'Green',\n",
       " 'Chariot': 'Silver'}"
      ]
     },
     "metadata": {},
     "execution_count": 8
    }
   ],
   "source": [
    "jojo_reference = {\n",
    "    \"Star\": \"platinum\",\n",
    "    \"Magician\": \"red\",\n",
    "    \"Hermit\": \"purple\",\n",
    "    \"Hierophant\": \"green\",\n",
    "    \"Chariot\": \"silver\"\n",
    "}\n",
    "\n",
    "{tarot: color.capitalize() for (tarot,color) in jojo_reference.items()}"
   ]
  },
  {
   "source": [
    "You can also compose a new dictionary based on other existing data structures using dictionary comprehensions:"
   ],
   "cell_type": "markdown",
   "metadata": {}
  },
  {
   "cell_type": "code",
   "execution_count": 9,
   "metadata": {},
   "outputs": [
    {
     "output_type": "execute_result",
     "data": {
      "text/plain": [
       "{'a': 'n',\n",
       " 'b': 'o',\n",
       " 'c': 'p',\n",
       " 'd': 'q',\n",
       " 'e': 'r',\n",
       " 'f': 'i',\n",
       " 'g': 't',\n",
       " 'h': 'u',\n",
       " 'i': 'f',\n",
       " 'j': 'w',\n",
       " 'k': 'x',\n",
       " 'l': 'y',\n",
       " 'm': 'z',\n",
       " 'n': 'a',\n",
       " 'o': 'b',\n",
       " 'p': 'c',\n",
       " 'q': 'd',\n",
       " 'r': 'e',\n",
       " 's': 'f',\n",
       " 't': 'g',\n",
       " 'u': 'h',\n",
       " 'w': 'j',\n",
       " 'x': 'k',\n",
       " 'y': 'l',\n",
       " 'z': 'm'}"
      ]
     },
     "metadata": {},
     "execution_count": 9
    }
   ],
   "source": [
    "alphabet = \"abcdefghijklmnopqrstufwxyz\"\n",
    "caesar_shift = 13\n",
    "cipher_keys = list(range(caesar_shift,26)) + list(range(0,caesar_shift))\n",
    "{alphabet[i]: alphabet[cipher_keys[i]] for i in range(0, len(alphabet))}"
   ]
  },
  {
   "source": [
    "You can also use conditional logic inside dictionary comprehensions:"
   ],
   "cell_type": "markdown",
   "metadata": {}
  },
  {
   "cell_type": "code",
   "execution_count": 10,
   "metadata": {},
   "outputs": [
    {
     "output_type": "execute_result",
     "data": {
      "text/plain": [
       "{1: 'odd',\n",
       " 2: 'even',\n",
       " 3: 'odd',\n",
       " 4: 'even',\n",
       " 5: 'odd',\n",
       " 6: 'even',\n",
       " 7: 'odd',\n",
       " 8: 'even',\n",
       " 9: 'odd',\n",
       " 10: 'even'}"
      ]
     },
     "metadata": {},
     "execution_count": 10
    }
   ],
   "source": [
    "{num: (\"even\" if num % 2 == 0 else \"odd\") for num in range(1,11)}"
   ]
  },
  {
   "source": [
    "## Set Comprehensions\n",
    "\n",
    "You can also apply comprehensions to create new sets based on other existing iterable objects:"
   ],
   "cell_type": "markdown",
   "metadata": {}
  },
  {
   "cell_type": "code",
   "execution_count": 11,
   "metadata": {},
   "outputs": [
    {
     "output_type": "execute_result",
     "data": {
      "text/plain": [
       "{0, 1, 4, 9, 16, 25, 36, 49, 64, 81}"
      ]
     },
     "metadata": {},
     "execution_count": 11
    }
   ],
   "source": [
    "{x*x for x in range(10)}"
   ]
  },
  {
   "source": [
    "Notice the similar syntax between dictionary and set comprehensions. They both use curly brackets, but the key difference here is that you do not use key-value pairs in the expression for the set comprehension!\n",
    "\n",
    "And as usual, any duplicates will automatically be removed from the newy generated set:"
   ],
   "cell_type": "markdown",
   "metadata": {}
  },
  {
   "cell_type": "code",
   "execution_count": 12,
   "metadata": {},
   "outputs": [
    {
     "output_type": "execute_result",
     "data": {
      "text/plain": [
       "{0, 1, 4, 9, 16, 25}"
      ]
     },
     "metadata": {},
     "execution_count": 12
    }
   ],
   "source": [
    "{x*x for x in range(-5,6)}"
   ]
  }
 ]
}