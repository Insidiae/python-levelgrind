{
 "cells": [
  {
   "cell_type": "markdown",
   "metadata": {},
   "source": [
    "# [Modules](https://docs.python.org/3/tutorial/modules.html)\n",
    "\n",
    "Modules are a way to keep Python files small by reusing certain pieces of code across different files."
   ]
  },
  {
   "cell_type": "markdown",
   "metadata": {},
   "source": [
    "## Built-in Modules\n",
    "\n",
    "Python offers a variety of [built-in modules](https://docs.python.org/3/py-modindex.html) that you can import right out of the box.\n",
    "\n",
    "Importing these built-in modules is as easy as directly `import`ing them in your Python file:"
   ]
  },
  {
   "cell_type": "code",
   "execution_count": 1,
   "metadata": {},
   "outputs": [
    {
     "data": {
      "text/plain": [
       "5"
      ]
     },
     "execution_count": 1,
     "metadata": {},
     "output_type": "execute_result"
    }
   ],
   "source": [
    "import random\n",
    "random.randint(1, 10)"
   ]
  },
  {
   "cell_type": "markdown",
   "metadata": {},
   "source": [
    "You can also selectively import functions within a module:"
   ]
  },
  {
   "cell_type": "code",
   "execution_count": 2,
   "metadata": {},
   "outputs": [
    {
     "data": {
      "text/plain": [
       "'paper'"
      ]
     },
     "execution_count": 2,
     "metadata": {},
     "output_type": "execute_result"
    }
   ],
   "source": [
    "from random import choice\n",
    "choice([\"rock\", \"paper\", \"scissors\"])"
   ]
  },
  {
   "cell_type": "markdown",
   "metadata": {},
   "source": [
    "You can also \"rename\" imported modules and/or functions using the `as` keyword:"
   ]
  },
  {
   "cell_type": "code",
   "execution_count": 3,
   "metadata": {},
   "outputs": [
    {
     "data": {
      "text/plain": [
       "[5, 8, 2, 9, 6, 7, 4, 10, 3, 1]"
      ]
     },
     "execution_count": 3,
     "metadata": {},
     "output_type": "execute_result"
    }
   ],
   "source": [
    "from random import shuffle as mix\n",
    "arr = [1, 2, 3, 4, 5, 6, 7, 8, 9, 10]\n",
    "mix(arr)\n",
    "arr"
   ]
  },
  {
   "cell_type": "markdown",
   "metadata": {},
   "source": [
    "## Custom Modules\n",
    "\n",
    "You can also create your own custom modules by defining some functions in a Python file and then importing it in another Python file:"
   ]
  },
  {
   "cell_type": "code",
   "execution_count": 4,
   "metadata": {},
   "outputs": [
    {
     "data": {
      "text/plain": [
       "'Hello there, General Kenobi!'"
      ]
     },
     "execution_count": 4,
     "metadata": {},
     "output_type": "execute_result"
    }
   ],
   "source": [
    "from custom_modules import greet, rock_paper_scissors as rps\n",
    "greet(\"General Kenobi\")"
   ]
  },
  {
   "cell_type": "code",
   "execution_count": 5,
   "metadata": {},
   "outputs": [
    {
     "data": {
      "text/plain": [
       "'rock'"
      ]
     },
     "execution_count": 5,
     "metadata": {},
     "output_type": "execute_result"
    }
   ],
   "source": [
    "rps()"
   ]
  },
  {
   "cell_type": "markdown",
   "metadata": {},
   "source": [
    "## External Modules\n",
    "\n",
    "The Python community has also created various external modules (sometimes also called _packages_) that other users can install and use in their own Python projects.\n",
    "\n",
    "Your Python installation typically includes some sort of package manager to help install these external modules. Here are two of the most common package managers:\n",
    "\n",
    "- [pip](https://pip.pypa.io/en/stable/)\n",
    "- [conda](https://docs.conda.io/projects/conda/en/master/user-guide/tasks/manage-pkgs.html)"
   ]
  }
 ],
 "metadata": {
  "interpreter": {
   "hash": "627bc1dc5605f05dc37c8e2d8aef233aa0f653871f776dbfe042e2630fc393a3"
  },
  "kernelspec": {
   "display_name": "Python 3.9.1 64-bit ('base': conda)",
   "name": "python3"
  },
  "language_info": {
   "codemirror_mode": {
    "name": "ipython",
    "version": 3
   },
   "file_extension": ".py",
   "mimetype": "text/x-python",
   "name": "python",
   "nbconvert_exporter": "python",
   "pygments_lexer": "ipython3",
   "version": "3.9.1"
  },
  "orig_nbformat": 4
 },
 "nbformat": 4,
 "nbformat_minor": 2
}
