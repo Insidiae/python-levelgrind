{
 "metadata": {
  "language_info": {
   "codemirror_mode": {
    "name": "ipython",
    "version": 3
   },
   "file_extension": ".py",
   "mimetype": "text/x-python",
   "name": "python",
   "nbconvert_exporter": "python",
   "pygments_lexer": "ipython3",
   "version": "3.9.1"
  },
  "orig_nbformat": 2,
  "kernelspec": {
   "name": "python391jvsc74a57bd0627bc1dc5605f05dc37c8e2d8aef233aa0f653871f776dbfe042e2630fc393a3",
   "display_name": "Python 3.9.1 64-bit (conda)"
  }
 },
 "nbformat": 4,
 "nbformat_minor": 2,
 "cells": [
  {
   "source": [
    "# Lambdas and Built-in Functions\n",
    "\n",
    "## Lambdas\n",
    "\n",
    "Lambdas are unnamed, single-expression functions."
   ],
   "cell_type": "markdown",
   "metadata": {}
  },
  {
   "cell_type": "code",
   "execution_count": 1,
   "metadata": {},
   "outputs": [],
   "source": [
    "def cube(num):\n",
    "    return num ** 3"
   ]
  },
  {
   "cell_type": "code",
   "execution_count": 2,
   "metadata": {},
   "outputs": [],
   "source": [
    "cube2 = lambda num: num ** 3"
   ]
  },
  {
   "source": [
    "You can call a lambda function the exact same way you would call a regular function:"
   ],
   "cell_type": "markdown",
   "metadata": {}
  },
  {
   "cell_type": "code",
   "execution_count": 3,
   "metadata": {},
   "outputs": [
    {
     "output_type": "execute_result",
     "data": {
      "text/plain": [
       "27"
      ]
     },
     "metadata": {},
     "execution_count": 3
    }
   ],
   "source": [
    "cube(3)"
   ]
  },
  {
   "cell_type": "code",
   "execution_count": 4,
   "metadata": {},
   "outputs": [
    {
     "output_type": "execute_result",
     "data": {
      "text/plain": [
       "27"
      ]
     },
     "metadata": {},
     "execution_count": 4
    }
   ],
   "source": [
    "cube2(3)"
   ]
  },
  {
   "source": [
    "Lambdas are *unnamed* functions, meaning they have no `__name__` property, even if you store them in a variable."
   ],
   "cell_type": "markdown",
   "metadata": {}
  },
  {
   "cell_type": "code",
   "execution_count": 5,
   "metadata": {},
   "outputs": [
    {
     "output_type": "execute_result",
     "data": {
      "text/plain": [
       "'cube'"
      ]
     },
     "metadata": {},
     "execution_count": 5
    }
   ],
   "source": [
    "cube.__name__"
   ]
  },
  {
   "cell_type": "code",
   "execution_count": 6,
   "metadata": {},
   "outputs": [
    {
     "output_type": "execute_result",
     "data": {
      "text/plain": [
       "'<lambda>'"
      ]
     },
     "metadata": {},
     "execution_count": 6
    }
   ],
   "source": [
    "cube2.__name__"
   ]
  },
  {
   "source": [
    "The key advantage of lambdas over regular functions is that you do not need to define a whole new function for some piece of code that's going to be called only once. Lambdas are typiclly used as arguments for other functions that take other functions as parameters.\n",
    "\n",
    "What kind of functions take other functions as parameters, you might ask? Python actually has quite a few helpful ones:\n",
    "\n",
    "## Built-in functions\n",
    "\n",
    "**1. `map(fn, collection)`** - Runs the function *fn* to perform some operation for every item in the iterable *collection*, then returns a new map object that contains the result of those operations."
   ],
   "cell_type": "markdown",
   "metadata": {}
  },
  {
   "cell_type": "code",
   "execution_count": 7,
   "metadata": {},
   "outputs": [
    {
     "output_type": "execute_result",
     "data": {
      "text/plain": [
       "<map at 0x1639843d2e0>"
      ]
     },
     "metadata": {},
     "execution_count": 7
    }
   ],
   "source": [
    "map(cube, [1, 2, 3, 4, 5])"
   ]
  },
  {
   "source": [
    "As you can see, `map()` does not return the same type of iterable as you passed in - luckily, you can just as easily convert the map object back to the type that you need:"
   ],
   "cell_type": "markdown",
   "metadata": {}
  },
  {
   "cell_type": "code",
   "execution_count": 8,
   "metadata": {},
   "outputs": [
    {
     "output_type": "execute_result",
     "data": {
      "text/plain": [
       "[1, 8, 27, 64, 125]"
      ]
     },
     "metadata": {},
     "execution_count": 8
    }
   ],
   "source": [
    "list(map(cube, [1, 2, 3, 4, 5]))"
   ]
  },
  {
   "source": [
    "Here, you can pass a lambda instead of defining a whole new separate function just to be passed in to `map()`:"
   ],
   "cell_type": "markdown",
   "metadata": {}
  },
  {
   "cell_type": "code",
   "execution_count": 9,
   "metadata": {},
   "outputs": [
    {
     "output_type": "execute_result",
     "data": {
      "text/plain": [
       "[1, 8, 27, 64, 125]"
      ]
     },
     "metadata": {},
     "execution_count": 9
    }
   ],
   "source": [
    "list(map(lambda num: num ** 3, [1, 2, 3, 4, 5]))"
   ]
  },
  {
   "source": [
    "**2. `filter(fn, collection)`** - Returns a new object containing only the items in *collection* for which the function *fn* returns `True`."
   ],
   "cell_type": "markdown",
   "metadata": {}
  },
  {
   "cell_type": "code",
   "execution_count": 10,
   "metadata": {},
   "outputs": [
    {
     "output_type": "execute_result",
     "data": {
      "text/plain": [
       "[1, 3, 5, 7, 9]"
      ]
     },
     "metadata": {},
     "execution_count": 10
    }
   ],
   "source": [
    "list(filter(lambda num: num % 2 == 1, range(1,10)))"
   ]
  },
  {
   "source": [
    "**3. `all(collection)`** - Returns `True` if ***ALL*** of the items in *collection* are truthy, otherwise returns `False`."
   ],
   "cell_type": "markdown",
   "metadata": {}
  },
  {
   "cell_type": "code",
   "execution_count": 11,
   "metadata": {},
   "outputs": [
    {
     "output_type": "execute_result",
     "data": {
      "text/plain": [
       "True"
      ]
     },
     "metadata": {},
     "execution_count": 11
    }
   ],
   "source": [
    "all([num % 2 == 0 for num in [2, 4, 6, 8, 10]])"
   ]
  },
  {
   "cell_type": "code",
   "execution_count": 12,
   "metadata": {},
   "outputs": [
    {
     "output_type": "execute_result",
     "data": {
      "text/plain": [
       "False"
      ]
     },
     "metadata": {},
     "execution_count": 12
    }
   ],
   "source": [
    "all([num % 2 == 0 for num in range(1, 10)])"
   ]
  },
  {
   "source": [
    "**4. `any()`** - Returns `True` if ***ANY*** item in *collection* is truthy, otherwise returns `False`."
   ],
   "cell_type": "markdown",
   "metadata": {}
  },
  {
   "cell_type": "code",
   "execution_count": 13,
   "metadata": {},
   "outputs": [
    {
     "output_type": "execute_result",
     "data": {
      "text/plain": [
       "True"
      ]
     },
     "metadata": {},
     "execution_count": 13
    }
   ],
   "source": [
    "any([num % 2 == 0 for num in range(1, 10)])"
   ]
  },
  {
   "cell_type": "code",
   "execution_count": 14,
   "metadata": {},
   "outputs": [
    {
     "output_type": "execute_result",
     "data": {
      "text/plain": [
       "False"
      ]
     },
     "metadata": {},
     "execution_count": 14
    }
   ],
   "source": [
    "any([False, 0, {}])"
   ]
  },
  {
   "source": [
    "### Quick side note: Generator Expressions\n",
    "\n",
    "You can actually omit the square brackets when running the `all()` and `any()` functions. The list comprehension-like expression will now be called a *generator expession*. Generator expressions are a [\"high performance, memory efficient generalization of list comprehensions and generators\"](https://www.python.org/dev/peps/pep-0289/). For now, you can basically think of these generator expressions as the equivalent of lambdas for list comprehensions - a quick and easy way to create a new single-use list comprehension that you do not need to store or use anywhere else!"
   ],
   "cell_type": "markdown",
   "metadata": {}
  },
  {
   "cell_type": "code",
   "execution_count": 15,
   "metadata": {},
   "outputs": [
    {
     "output_type": "execute_result",
     "data": {
      "text/plain": [
       "True"
      ]
     },
     "metadata": {},
     "execution_count": 15
    }
   ],
   "source": [
    "all(num % 2 == 0 for num in [2, 4, 6, 8, 10])"
   ]
  },
  {
   "source": [
    "**5. `sorted(collection, key=None, reverse=False)`** - Similar to the `list.sort()` method, returns a new object containing the sorted items in *collection*. Also optionally accepts a *key* function to decide how to sort the items in *collection*. if `reverse` is set to `True`, the items will be sorted in reverse/descending order instead."
   ],
   "cell_type": "markdown",
   "metadata": {}
  },
  {
   "cell_type": "code",
   "execution_count": 16,
   "metadata": {},
   "outputs": [
    {
     "output_type": "execute_result",
     "data": {
      "text/plain": [
       "[1, 4, 6, 23, 30, 55]"
      ]
     },
     "metadata": {},
     "execution_count": 16
    }
   ],
   "source": [
    "nums = [4, 6, 1, 30, 55, 23]\n",
    "sorted(nums)"
   ]
  },
  {
   "cell_type": "code",
   "execution_count": 17,
   "metadata": {},
   "outputs": [
    {
     "output_type": "execute_result",
     "data": {
      "text/plain": [
       "[55, 30, 23, 6, 4, 1]"
      ]
     },
     "metadata": {},
     "execution_count": 17
    }
   ],
   "source": [
    "sorted(nums, reverse=True)"
   ]
  },
  {
   "source": [
    "Unlike `list.sort()` however, this leaves the original collection unchanged:"
   ],
   "cell_type": "markdown",
   "metadata": {}
  },
  {
   "cell_type": "code",
   "execution_count": 18,
   "metadata": {},
   "outputs": [
    {
     "output_type": "execute_result",
     "data": {
      "text/plain": [
       "[4, 6, 1, 30, 55, 23]"
      ]
     },
     "metadata": {},
     "execution_count": 18
    }
   ],
   "source": [
    "nums"
   ]
  },
  {
   "source": [
    "You can also specify how to sort the items using a *key* function:"
   ],
   "cell_type": "markdown",
   "metadata": {}
  },
  {
   "cell_type": "code",
   "execution_count": 19,
   "metadata": {},
   "outputs": [
    {
     "output_type": "execute_result",
     "data": {
      "text/plain": [
       "['Andrew', 'This', 'a', 'from', 'is', 'string', 'test']"
      ]
     },
     "metadata": {},
     "execution_count": 19
    }
   ],
   "source": [
    "sorted(\"This is a test string from Andrew\".split())"
   ]
  },
  {
   "cell_type": "code",
   "execution_count": 20,
   "metadata": {},
   "outputs": [
    {
     "output_type": "execute_result",
     "data": {
      "text/plain": [
       "['a', 'Andrew', 'from', 'is', 'string', 'test', 'This']"
      ]
     },
     "metadata": {},
     "execution_count": 20
    }
   ],
   "source": [
    "sorted(\"This is a test string from Andrew\".split(), key=str.lower)"
   ]
  },
  {
   "source": [
    "**6. `max()`** - Returns the largest item in an iterable, or the largest of two or more arguments."
   ],
   "cell_type": "markdown",
   "metadata": {}
  },
  {
   "cell_type": "code",
   "execution_count": 21,
   "metadata": {},
   "outputs": [
    {
     "output_type": "execute_result",
     "data": {
      "text/plain": [
       "[4, 6, 1, 30, 55, 23]"
      ]
     },
     "metadata": {},
     "execution_count": 21
    }
   ],
   "source": [
    "nums"
   ]
  },
  {
   "cell_type": "code",
   "execution_count": 22,
   "metadata": {},
   "outputs": [
    {
     "output_type": "execute_result",
     "data": {
      "text/plain": [
       "55"
      ]
     },
     "metadata": {},
     "execution_count": 22
    }
   ],
   "source": [
    "max(nums)"
   ]
  },
  {
   "cell_type": "code",
   "execution_count": 23,
   "metadata": {},
   "outputs": [
    {
     "output_type": "execute_result",
     "data": {
      "text/plain": [
       "55"
      ]
     },
     "metadata": {},
     "execution_count": 23
    }
   ],
   "source": [
    "max(*nums)"
   ]
  },
  {
   "source": [
    "You can also include a *key* function to specify how to compare the items or arguments:"
   ],
   "cell_type": "markdown",
   "metadata": {}
  },
  {
   "cell_type": "code",
   "execution_count": 24,
   "metadata": {},
   "outputs": [
    {
     "output_type": "execute_result",
     "data": {
      "text/plain": [
       "'Magdalene'"
      ]
     },
     "metadata": {},
     "execution_count": 24
    }
   ],
   "source": [
    "names = [\"Isaac\", \"Magdalene\", \"Cain\", \"Eve\", \"Judas\", \"Samson\", \"???\", \"Azazel\", \"Lazarus\", \"Eden\"]\n",
    "max(names, key=lambda n: len(n))"
   ]
  },
  {
   "source": [
    "**7. `min()`** - Returns the smallest item in an iterable, or the smallest two or more arguments"
   ],
   "cell_type": "markdown",
   "metadata": {}
  },
  {
   "cell_type": "code",
   "execution_count": 25,
   "metadata": {},
   "outputs": [
    {
     "output_type": "execute_result",
     "data": {
      "text/plain": [
       "1"
      ]
     },
     "metadata": {},
     "execution_count": 25
    }
   ],
   "source": [
    "min(nums)"
   ]
  },
  {
   "cell_type": "code",
   "execution_count": 26,
   "metadata": {},
   "outputs": [
    {
     "output_type": "execute_result",
     "data": {
      "text/plain": [
       "1"
      ]
     },
     "metadata": {},
     "execution_count": 26
    }
   ],
   "source": [
    "min(4, 6, 1, 30, 55, 23)"
   ]
  },
  {
   "cell_type": "code",
   "execution_count": 27,
   "metadata": {},
   "outputs": [
    {
     "output_type": "execute_result",
     "data": {
      "text/plain": [
       "'Eve'"
      ]
     },
     "metadata": {},
     "execution_count": 27
    }
   ],
   "source": [
    "min(names, key=lambda n: len(n))"
   ]
  },
  {
   "source": [
    "**8. `sum(collection, start)`** - Returns the sum of all the values in *collection*. If a *start* value is provided, it will be added to the final result "
   ],
   "cell_type": "markdown",
   "metadata": {}
  },
  {
   "cell_type": "code",
   "execution_count": 28,
   "metadata": {},
   "outputs": [
    {
     "output_type": "execute_result",
     "data": {
      "text/plain": [
       "[4, 6, 1, 30, 55, 23]"
      ]
     },
     "metadata": {},
     "execution_count": 28
    }
   ],
   "source": [
    "nums"
   ]
  },
  {
   "cell_type": "code",
   "execution_count": 29,
   "metadata": {},
   "outputs": [
    {
     "output_type": "execute_result",
     "data": {
      "text/plain": [
       "119"
      ]
     },
     "metadata": {},
     "execution_count": 29
    }
   ],
   "source": [
    "sum(nums)"
   ]
  },
  {
   "cell_type": "code",
   "execution_count": 30,
   "metadata": {},
   "outputs": [
    {
     "output_type": "execute_result",
     "data": {
      "text/plain": [
       "129"
      ]
     },
     "metadata": {},
     "execution_count": 30
    }
   ],
   "source": [
    "sum(nums, 10)"
   ]
  },
  {
   "source": [
    "**9. `zip(*iterables)`** - Returns an iterator of tuples, where the *i*-th tuple contains the *i*-th element from each of the argument sequences or iterables. The iterator stops when the shortest input iterable is exhausted."
   ],
   "cell_type": "markdown",
   "metadata": {}
  },
  {
   "cell_type": "code",
   "execution_count": 31,
   "metadata": {},
   "outputs": [
    {
     "output_type": "execute_result",
     "data": {
      "text/plain": [
       "[(1, 4, 7), (2, 5, 8), (3, 6, 9)]"
      ]
     },
     "metadata": {},
     "execution_count": 31
    }
   ],
   "source": [
    "x = [1, 2, 3]\n",
    "y = [4, 5, 6]\n",
    "z = [7, 8, 9, 10]\n",
    "list(zip(x, y, z))"
   ]
  }
 ]
}