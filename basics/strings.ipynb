{
 "metadata": {
  "language_info": {
   "codemirror_mode": {
    "name": "ipython",
    "version": 3
   },
   "file_extension": ".py",
   "mimetype": "text/x-python",
   "name": "python",
   "nbconvert_exporter": "python",
   "pygments_lexer": "ipython3",
   "version": "3.9.1"
  },
  "orig_nbformat": 2,
  "kernelspec": {
   "name": "python391jvsc74a57bd0627bc1dc5605f05dc37c8e2d8aef233aa0f653871f776dbfe042e2630fc393a3",
   "display_name": "Python 3.9.1 64-bit (conda)"
  }
 },
 "nbformat": 4,
 "nbformat_minor": 2,
 "cells": [
  {
   "source": [
    "# Strings\n",
    "\n",
    "Strings represent pieces of text. In Python, Strings can be deoted using single quotes (`''`) or double quotes (`\"\"`)."
   ],
   "cell_type": "markdown",
   "metadata": {}
  },
  {
   "cell_type": "code",
   "execution_count": 1,
   "metadata": {},
   "outputs": [
    {
     "output_type": "execute_result",
     "data": {
      "text/plain": [
       "str"
      ]
     },
     "metadata": {},
     "execution_count": 1
    }
   ],
   "source": [
    "type('Hello there!') # str"
   ]
  },
  {
   "source": [
    "type(\"General Kenobi!\") # str"
   ],
   "cell_type": "code",
   "metadata": {},
   "execution_count": 2,
   "outputs": [
    {
     "output_type": "execute_result",
     "data": {
      "text/plain": [
       "str"
      ]
     },
     "metadata": {},
     "execution_count": 2
    }
   ]
  },
  {
   "source": [
    "You can also create multi-line strings by using three quotation marks like so:"
   ],
   "cell_type": "markdown",
   "metadata": {}
  },
  {
   "cell_type": "code",
   "execution_count": 3,
   "metadata": {},
   "outputs": [
    {
     "output_type": "execute_result",
     "data": {
      "text/plain": [
       "str"
      ]
     },
     "metadata": {},
     "execution_count": 3
    }
   ],
   "source": [
    "multi_line_text = '''\n",
    "This\n",
    "is\n",
    "a\n",
    "Multi\n",
    "line\n",
    "String!\n",
    "'''\n",
    "type(multi_line_text)"
   ]
  },
  {
   "cell_type": "code",
   "execution_count": 4,
   "metadata": {},
   "outputs": [
    {
     "output_type": "execute_result",
     "data": {
      "text/plain": [
       "str"
      ]
     },
     "metadata": {},
     "execution_count": 4
    }
   ],
   "source": [
    "more_lines = \"\"\"\n",
    "Wow!\n",
    "Dope!\n",
    "Based!\n",
    "Super Lit!\n",
    "\"\"\"\n",
    "type(more_lines)"
   ]
  },
  {
   "source": [
    "## String Concatenation\n",
    "\n",
    "You can also combine different strings using the `+` operator:"
   ],
   "cell_type": "markdown",
   "metadata": {}
  },
  {
   "cell_type": "code",
   "execution_count": 5,
   "metadata": {},
   "outputs": [
    {
     "output_type": "execute_result",
     "data": {
      "text/plain": [
       "'HelloWorld'"
      ]
     },
     "metadata": {},
     "execution_count": 5
    }
   ],
   "source": [
    "some_text = \"Hello\"\n",
    "some_more_text = \"World\"\n",
    "some_text + some_more_text"
   ]
  },
  {
   "source": [
    "As you can see, Python does not automatically add spaces when you combine multiple strings. If you want to add spaces between the combined strings, you can manually add them like so:"
   ],
   "cell_type": "markdown",
   "metadata": {}
  },
  {
   "cell_type": "code",
   "execution_count": 6,
   "metadata": {},
   "outputs": [
    {
     "output_type": "execute_result",
     "data": {
      "text/plain": [
       "'Hello World'"
      ]
     },
     "metadata": {},
     "execution_count": 6
    }
   ],
   "source": [
    "some_text + \" \" + some_more_text"
   ]
  },
  {
   "source": [
    "> CAUTION! Python will throw an error if you try to combine strings with other data types like `int` or `float`. You'll need to convert those to string first before you can add them to another string!"
   ],
   "cell_type": "markdown",
   "metadata": {}
  },
  {
   "cell_type": "code",
   "execution_count": 7,
   "metadata": {},
   "outputs": [
    {
     "output_type": "execute_result",
     "data": {
      "text/plain": [
       "'Execute Order 66'"
      ]
     },
     "metadata": {},
     "execution_count": 7
    }
   ],
   "source": [
    "\"Execute Order \" + str(66)"
   ]
  },
  {
   "source": [
    "## Escape Sequences\n",
    "\n",
    "Escape Sequences are special characters you can use within strings. Escape Sequences use the backslash (`\\`) character to *escape* characters that otherwise have a special meaning, such as newline, backslash itself, or quotation marks.\n",
    "\n",
    "Here are some of the commonly used escape sequences:\n",
    "\n",
    "| Escape Sequence | Meaning              |\n",
    "|-----------------|----------------------|\n",
    "| \\\\              | Backslash            |\n",
    "| \\'              | Single Quote         |\n",
    "| \\\"              | Double Quote         |\n",
    "| \\t              | Horizontal Tab       |\n",
    "| \\n              | Line Feed (LF)       |\n",
    "| \\r              | Carriage Return (CR) |\n",
    "\n",
    "A complete list of scape sequences can be found in the [Python docs](https://docs.python.org/3/reference/lexical_analysis.html#strings)."
   ],
   "cell_type": "markdown",
   "metadata": {}
  },
  {
   "cell_type": "code",
   "execution_count": 8,
   "metadata": {},
   "outputs": [
    {
     "output_type": "stream",
     "name": "stdout",
     "text": [
      "Here is a\ttab\nAnd here is a new line!\n"
     ]
    }
   ],
   "source": [
    "print(\"Here is a\\ttab\\nAnd here is a new line!\")"
   ]
  },
  {
   "cell_type": "code",
   "execution_count": 9,
   "metadata": {},
   "outputs": [
    {
     "output_type": "stream",
     "name": "stdout",
     "text": [
      "\"It's easier to act yourself into a new way of thinking,\nthan it is to think yourself into a new way of acting.\"\n- Millard Fuller\n"
     ]
    }
   ],
   "source": [
    "print(\"\\\"It\\'s easier to act yourself into a new way of thinking,\\nthan it is to think yourself into a new way of acting.\\\"\\n- Millard Fuller\")"
   ]
  },
  {
   "source": [
    "## Formatted Strings\n",
    "\n",
    "Formatted strings are strings are represented by appending the `format()` function after the string. Within formatted strings, you can add other variables by using curly brackets (`{}`). This allows you to more easily manage long strings, and even add in other data types within strings hassle-free!"
   ],
   "cell_type": "markdown",
   "metadata": {}
  },
  {
   "source": [
    "short_link = \"youtu.be\"\n",
    "video_id = \"dQw4w9WgXcQ\"\n",
    "timestamp = 43\n",
    "full_link = \"https://{0}/{1}?t={2}\".format(short_link, video_id, timestamp)\n",
    "print(full_link)"
   ],
   "cell_type": "code",
   "metadata": {},
   "execution_count": 10,
   "outputs": [
    {
     "output_type": "stream",
     "name": "stdout",
     "text": [
      "https://youtu.be/dQw4w9WgXcQ?t=43\n"
     ]
    }
   ]
  },
  {
   "source": [
    "In newer versions of Python, formatted strings can also be represented by the letter 'f' before the opening quotation mark (`f\"\"`) like so:"
   ],
   "cell_type": "markdown",
   "metadata": {}
  },
  {
   "cell_type": "code",
   "execution_count": 11,
   "metadata": {},
   "outputs": [
    {
     "output_type": "stream",
     "name": "stdout",
     "text": [
      "https://youtu.be/dQw4w9WgXcQ?t=43\n"
     ]
    }
   ],
   "source": [
    "full_link_new = f\"https://{short_link}/{video_id}?t={timestamp}\"\n",
    "print(full_link_new)"
   ]
  },
  {
   "source": [
    "## String Indices\n",
    "\n",
    "You can also access specific characters within a string using indices. To access certain characters within a string, you use square brackets (`[]`) containing the *index* of the character you want to access, starting from 0."
   ],
   "cell_type": "markdown",
   "metadata": {}
  },
  {
   "cell_type": "code",
   "execution_count": 12,
   "metadata": {},
   "outputs": [
    {
     "output_type": "execute_result",
     "data": {
      "text/plain": [
       "'a'"
      ]
     },
     "metadata": {},
     "execution_count": 12
    }
   ],
   "source": [
    "alphabet = \"abcdefghijklmnopqrstuvwxyz\"\n",
    "alphabet[0]"
   ]
  },
  {
   "cell_type": "code",
   "execution_count": 13,
   "metadata": {},
   "outputs": [
    {
     "output_type": "execute_result",
     "data": {
      "text/plain": [
       "'b'"
      ]
     },
     "metadata": {},
     "execution_count": 13
    }
   ],
   "source": [
    "alphabet[1]"
   ]
  },
  {
   "cell_type": "code",
   "execution_count": 14,
   "metadata": {},
   "outputs": [
    {
     "output_type": "execute_result",
     "data": {
      "text/plain": [
       "'c'"
      ]
     },
     "metadata": {},
     "execution_count": 14
    }
   ],
   "source": [
    "alphabet[2]"
   ]
  },
  {
   "source": [
    "You can also use negative numbers as the index to ccess the characters starting from the end of the string:"
   ],
   "cell_type": "markdown",
   "metadata": {}
  },
  {
   "cell_type": "code",
   "execution_count": 15,
   "metadata": {},
   "outputs": [
    {
     "output_type": "execute_result",
     "data": {
      "text/plain": [
       "'z'"
      ]
     },
     "metadata": {},
     "execution_count": 15
    }
   ],
   "source": [
    "alphabet[-1]"
   ]
  },
  {
   "cell_type": "code",
   "execution_count": 16,
   "metadata": {},
   "outputs": [
    {
     "output_type": "execute_result",
     "data": {
      "text/plain": [
       "'y'"
      ]
     },
     "metadata": {},
     "execution_count": 16
    }
   ],
   "source": [
    "alphabet[-2]"
   ]
  },
  {
   "cell_type": "code",
   "execution_count": 17,
   "metadata": {},
   "outputs": [
    {
     "output_type": "execute_result",
     "data": {
      "text/plain": [
       "'x'"
      ]
     },
     "metadata": {},
     "execution_count": 17
    }
   ],
   "source": [
    "alphabet[-3]"
   ]
  },
  {
   "source": [
    "You can also access multiple characters at once by adding in the start and end indices separated by a colon (`:`).\n",
    "\n",
    "> Note: The character at the end index will not be included  in the result!"
   ],
   "cell_type": "markdown",
   "metadata": {}
  },
  {
   "cell_type": "code",
   "execution_count": 18,
   "metadata": {},
   "outputs": [
    {
     "output_type": "execute_result",
     "data": {
      "text/plain": [
       "'lmnop'"
      ]
     },
     "metadata": {},
     "execution_count": 18
    }
   ],
   "source": [
    "alphabet[11:16]"
   ]
  },
  {
   "source": [
    "You can also skip characters by adding in another value (sometimes called the *step value*) in the square bracket:"
   ],
   "cell_type": "markdown",
   "metadata": {}
  },
  {
   "cell_type": "code",
   "execution_count": 19,
   "metadata": {},
   "outputs": [
    {
     "output_type": "execute_result",
     "data": {
      "text/plain": [
       "'acegi'"
      ]
     },
     "metadata": {},
     "execution_count": 19
    }
   ],
   "source": [
    "alphabet[0:10:2]"
   ]
  },
  {
   "source": [
    "You can also omit the start and/or end indices if you want to traverse the entire string:"
   ],
   "cell_type": "markdown",
   "metadata": {}
  },
  {
   "cell_type": "code",
   "execution_count": 20,
   "metadata": {},
   "outputs": [
    {
     "output_type": "execute_result",
     "data": {
      "text/plain": [
       "'acegikmoqsuwy'"
      ]
     },
     "metadata": {},
     "execution_count": 20
    }
   ],
   "source": [
    "alphabet[::2]"
   ]
  },
  {
   "source": [
    "You can also traverse the string backwards by specifying a negative step value:"
   ],
   "cell_type": "markdown",
   "metadata": {}
  },
  {
   "cell_type": "code",
   "execution_count": 21,
   "metadata": {},
   "outputs": [
    {
     "output_type": "execute_result",
     "data": {
      "text/plain": [
       "'zyxwvutsrqponmlkjihgfedcba'"
      ]
     },
     "metadata": {},
     "execution_count": 21
    }
   ],
   "source": [
    "alphabet[::-1]"
   ]
  },
  {
   "source": [
    "### A Quick Note on Immutability\n",
    "\n",
    "You can *access* specific characters within a string, but you cannot modify (or *mutate*) specific characters via their indices! If you need to change a few characters in the string, you'll need to replace the whole string!"
   ],
   "cell_type": "markdown",
   "metadata": {}
  },
  {
   "cell_type": "code",
   "execution_count": 22,
   "metadata": {},
   "outputs": [
    {
     "output_type": "execute_result",
     "data": {
      "text/plain": [
       "'Abcdefghijklmnopqrstuvwxyz'"
      ]
     },
     "metadata": {},
     "execution_count": 22
    }
   ],
   "source": [
    "alphabet[0].upper() + alphabet[1:]"
   ]
  },
  {
   "cell_type": "code",
   "execution_count": 23,
   "metadata": {},
   "outputs": [
    {
     "output_type": "execute_result",
     "data": {
      "text/plain": [
       "'abcdefghijklmnopqrstuvwxyz'"
      ]
     },
     "metadata": {},
     "execution_count": 23
    }
   ],
   "source": [
    "alphabet"
   ]
  },
  {
   "source": [
    "## Built-in Functions and Methods\n",
    "\n",
    "As usual, Python provides some more built-in functions that help with strings:\n",
    "\n",
    "**1. `len()`** - Gets the length of a string"
   ],
   "cell_type": "markdown",
   "metadata": {}
  },
  {
   "cell_type": "code",
   "execution_count": 24,
   "metadata": {},
   "outputs": [
    {
     "output_type": "execute_result",
     "data": {
      "text/plain": [
       "26"
      ]
     },
     "metadata": {},
     "execution_count": 24
    }
   ],
   "source": [
    "len(alphabet)"
   ]
  },
  {
   "source": [
    "**Methods** are functions that can only be called by the object it's associated to. Strings have their own built-in methods that perform certain tasks related to strings. Here are some of the more commonly used string methods:\n",
    "\n",
    "**1. `upper()`** - turns the whole string uppercase"
   ],
   "cell_type": "markdown",
   "metadata": {}
  },
  {
   "cell_type": "code",
   "execution_count": 25,
   "metadata": {},
   "outputs": [
    {
     "output_type": "execute_result",
     "data": {
      "text/plain": [
       "'ABCDEFGHIJKLMNOPQRSTUVWXYZ'"
      ]
     },
     "metadata": {},
     "execution_count": 25
    }
   ],
   "source": [
    "alphabet.upper()"
   ]
  },
  {
   "source": [
    "**2. `lower()`** - turns the whole string lowercase"
   ],
   "cell_type": "markdown",
   "metadata": {}
  },
  {
   "cell_type": "code",
   "execution_count": 26,
   "metadata": {},
   "outputs": [
    {
     "output_type": "execute_result",
     "data": {
      "text/plain": [
       "'abcdefg'"
      ]
     },
     "metadata": {},
     "execution_count": 26
    }
   ],
   "source": [
    "\"AbCdEfG\".lower()"
   ]
  },
  {
   "source": [
    "**3. `capitalize()`** - Turns the first letter into uppercase, while the rest of the letters turn to lowercase"
   ],
   "cell_type": "markdown",
   "metadata": {}
  },
  {
   "cell_type": "code",
   "execution_count": 27,
   "metadata": {},
   "outputs": [
    {
     "output_type": "execute_result",
     "data": {
      "text/plain": [
       "'To be or not to be'"
      ]
     },
     "metadata": {},
     "execution_count": 27
    }
   ],
   "source": [
    "quote = \"to be or Not to be\"\n",
    "quote.capitalize()"
   ]
  },
  {
   "source": [
    "**4. `find()`** - Finds a substring within the string and returns the index where the substring was found. If the substring is not found, returns -1 instead."
   ],
   "cell_type": "markdown",
   "metadata": {}
  },
  {
   "cell_type": "code",
   "execution_count": 28,
   "metadata": {},
   "outputs": [
    {
     "output_type": "execute_result",
     "data": {
      "text/plain": [
       "3"
      ]
     },
     "metadata": {},
     "execution_count": 28
    }
   ],
   "source": [
    "quote.find(\"be\")"
   ]
  },
  {
   "cell_type": "code",
   "execution_count": 29,
   "metadata": {},
   "outputs": [
    {
     "output_type": "execute_result",
     "data": {
      "text/plain": [
       "-1"
      ]
     },
     "metadata": {},
     "execution_count": 29
    }
   ],
   "source": [
    "quote.find(\"bee\")"
   ]
  },
  {
   "source": [
    "**5. `replace()`** - Replaces all instances of a given substring with another substring."
   ],
   "cell_type": "markdown",
   "metadata": {}
  },
  {
   "cell_type": "code",
   "execution_count": 30,
   "metadata": {},
   "outputs": [
    {
     "output_type": "execute_result",
     "data": {
      "text/plain": [
       "'to bee or Not to bee'"
      ]
     },
     "metadata": {},
     "execution_count": 30
    }
   ],
   "source": [
    "quote.replace(\"be\", \"bee\")"
   ]
  },
  {
   "source": [
    "You can also use multiple methods one after another like so:"
   ],
   "cell_type": "markdown",
   "metadata": {}
  },
  {
   "cell_type": "code",
   "execution_count": 31,
   "metadata": {},
   "outputs": [
    {
     "output_type": "execute_result",
     "data": {
      "text/plain": [
       "'FOR ME OR NOT FOR ME'"
      ]
     },
     "metadata": {},
     "execution_count": 31
    }
   ],
   "source": [
    "quote.replace(\"to\", \"for\").replace(\"be\", \"me\").upper()"
   ]
  }
 ]
}