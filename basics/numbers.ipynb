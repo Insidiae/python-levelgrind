{
 "metadata": {
  "language_info": {
   "codemirror_mode": {
    "name": "ipython",
    "version": 3
   },
   "file_extension": ".py",
   "mimetype": "text/x-python",
   "name": "python",
   "nbconvert_exporter": "python",
   "pygments_lexer": "ipython3",
   "version": "3.9.1"
  },
  "orig_nbformat": 2,
  "kernelspec": {
   "name": "python391jvsc74a57bd0627bc1dc5605f05dc37c8e2d8aef233aa0f653871f776dbfe042e2630fc393a3",
   "display_name": "Python 3.9.1 64-bit (conda)"
  }
 },
 "nbformat": 4,
 "nbformat_minor": 2,
 "cells": [
  {
   "source": [
    "# Numeric data types: `int` and `float`\n",
    "\n",
    "Python has different numeric data times that serve different purposes.\n",
    "\n",
    "The `int` data type represents *int*egers, which are similar to whole numbers."
   ],
   "cell_type": "markdown",
   "metadata": {}
  },
  {
   "cell_type": "code",
   "execution_count": 1,
   "metadata": {},
   "outputs": [
    {
     "output_type": "execute_result",
     "data": {
      "text/plain": [
       "int"
      ]
     },
     "metadata": {},
     "execution_count": 1
    }
   ],
   "source": [
    "type(6) # int"
   ]
  },
  {
   "source": [
    "The `float` data type represents *float*ing point numbers, which are numbers that can have decimal places."
   ],
   "cell_type": "markdown",
   "metadata": {}
  },
  {
   "cell_type": "code",
   "execution_count": 2,
   "metadata": {},
   "outputs": [
    {
     "output_type": "execute_result",
     "data": {
      "text/plain": [
       "float"
      ]
     },
     "metadata": {},
     "execution_count": 2
    }
   ],
   "source": [
    "type(6.0) # float"
   ]
  },
  {
   "source": [
    "## Operations on numeric data types\n",
    "\n",
    "Python lets you perform various operations on numeric data types. Here are some of the arithmetic operations you can do in Python:\n",
    "\n",
    "**1. Addition**"
   ],
   "cell_type": "markdown",
   "metadata": {}
  },
  {
   "cell_type": "code",
   "execution_count": 3,
   "metadata": {},
   "outputs": [
    {
     "output_type": "execute_result",
     "data": {
      "text/plain": [
       "2"
      ]
     },
     "metadata": {},
     "execution_count": 3
    }
   ],
   "source": [
    "1 + 1 # 2"
   ]
  },
  {
   "source": [
    "**2. Subtraction**"
   ],
   "cell_type": "markdown",
   "metadata": {}
  },
  {
   "source": [
    "2 - 1 # 1"
   ],
   "cell_type": "code",
   "metadata": {},
   "execution_count": 4,
   "outputs": [
    {
     "output_type": "execute_result",
     "data": {
      "text/plain": [
       "1"
      ]
     },
     "metadata": {},
     "execution_count": 4
    }
   ]
  },
  {
   "source": [
    "**3. Multiplication**"
   ],
   "cell_type": "markdown",
   "metadata": {}
  },
  {
   "cell_type": "code",
   "execution_count": 5,
   "metadata": {},
   "outputs": [
    {
     "output_type": "execute_result",
     "data": {
      "text/plain": [
       "4"
      ]
     },
     "metadata": {},
     "execution_count": 5
    }
   ],
   "source": [
    "2 * 2 # 4"
   ]
  },
  {
   "source": [
    "**4. Division**"
   ],
   "cell_type": "markdown",
   "metadata": {}
  },
  {
   "cell_type": "code",
   "execution_count": 6,
   "metadata": {},
   "outputs": [
    {
     "output_type": "execute_result",
     "data": {
      "text/plain": [
       "0.5"
      ]
     },
     "metadata": {},
     "execution_count": 6
    }
   ],
   "source": [
    "2 / 4 # 0.5"
   ]
  },
  {
   "source": [
    "> Note that division seems to always result to a float number!"
   ],
   "cell_type": "markdown",
   "metadata": {}
  },
  {
   "cell_type": "code",
   "execution_count": 7,
   "metadata": {},
   "outputs": [
    {
     "output_type": "execute_result",
     "data": {
      "text/plain": [
       "1.0"
      ]
     },
     "metadata": {},
     "execution_count": 7
    }
   ],
   "source": [
    "1 / 1 # 1.0"
   ]
  },
  {
   "source": [
    "Aside from the basic arithmeric operations, Python also has other operations that you can do on numeric data types:\n",
    "\n",
    "**5. Power/Exponentiation** - You can perform exponential calculations on numbers using the `**` operator"
   ],
   "cell_type": "markdown",
   "metadata": {}
  },
  {
   "cell_type": "code",
   "execution_count": 8,
   "metadata": {},
   "outputs": [
    {
     "output_type": "execute_result",
     "data": {
      "text/plain": [
       "2147483648"
      ]
     },
     "metadata": {},
     "execution_count": 8
    }
   ],
   "source": [
    "2 ** 31 # 2147483648"
   ]
  },
  {
   "source": [
    "**6. Floor division** - Unlike regular division, you can only get the integer part of the result using the `//` operator"
   ],
   "cell_type": "markdown",
   "metadata": {}
  },
  {
   "cell_type": "code",
   "execution_count": 9,
   "metadata": {},
   "outputs": [
    {
     "output_type": "execute_result",
     "data": {
      "text/plain": [
       "1"
      ]
     },
     "metadata": {},
     "execution_count": 9
    }
   ],
   "source": [
    "6 // 4 # 1"
   ]
  },
  {
   "source": [
    "**7. Modulo** - You can also get the *remainder* of the division result using the `%` operator"
   ],
   "cell_type": "markdown",
   "metadata": {}
  },
  {
   "cell_type": "code",
   "execution_count": 10,
   "metadata": {},
   "outputs": [
    {
     "output_type": "execute_result",
     "data": {
      "text/plain": [
       "2"
      ]
     },
     "metadata": {},
     "execution_count": 10
    }
   ],
   "source": [
    "6 % 4 # 2"
   ]
  },
  {
   "source": [
    "## Built-in Math functions\n",
    "\n",
    "Python also has buil-in functions for other mathematical operations. Here are some of the built-in Math functions commonly used:\n",
    "\n",
    "**1. `round()`** - rounds the float number to the nearest integer, or to however many decimal placess are specified"
   ],
   "cell_type": "markdown",
   "metadata": {}
  },
  {
   "cell_type": "code",
   "execution_count": 11,
   "metadata": {},
   "outputs": [
    {
     "output_type": "execute_result",
     "data": {
      "text/plain": [
       "3"
      ]
     },
     "metadata": {},
     "execution_count": 11
    }
   ],
   "source": [
    "round(3.4) # 3"
   ]
  },
  {
   "cell_type": "code",
   "execution_count": 12,
   "metadata": {},
   "outputs": [
    {
     "output_type": "execute_result",
     "data": {
      "text/plain": [
       "4"
      ]
     },
     "metadata": {},
     "execution_count": 12
    }
   ],
   "source": [
    "round(3.5) # 4"
   ]
  },
  {
   "source": [
    "You can also round numbers to a specified number of decimal places by passing another parameter to `round()`:"
   ],
   "cell_type": "markdown",
   "metadata": {}
  },
  {
   "cell_type": "code",
   "execution_count": 13,
   "metadata": {},
   "outputs": [
    {
     "output_type": "execute_result",
     "data": {
      "text/plain": [
       "1.235"
      ]
     },
     "metadata": {},
     "execution_count": 13
    }
   ],
   "source": [
    "round(1.234567, 3) # 1.235"
   ]
  },
  {
   "source": [
    "**2. `abs()`** - gets the absolute value of the number"
   ],
   "cell_type": "markdown",
   "metadata": {}
  },
  {
   "cell_type": "code",
   "execution_count": 14,
   "metadata": {},
   "outputs": [
    {
     "output_type": "execute_result",
     "data": {
      "text/plain": [
       "123"
      ]
     },
     "metadata": {},
     "execution_count": 14
    }
   ],
   "source": [
    "abs(-123)"
   ]
  },
  {
   "source": [
    "> There are many more built-in Math functions in Python. You can refer to the [official](https://docs.python.org/3/library/functions.html) [docs](https://docs.python.org/3/library/math.html) for more info on these Math functions."
   ],
   "cell_type": "markdown",
   "metadata": {}
  },
  {
   "source": [
    "# Operator Precedence\n",
    "\n",
    "Operations in Python have a specific order, which might lead to unexpected results if one does not organize these operations carefully. Try to analyze the following operations and see if you can verify their results!\n",
    "\n",
    "> Note: A good rule of thumb to remember the order of operations is PEMDAS!"
   ],
   "cell_type": "markdown",
   "metadata": {}
  },
  {
   "cell_type": "code",
   "execution_count": 15,
   "metadata": {},
   "outputs": [
    {
     "output_type": "execute_result",
     "data": {
      "text/plain": [
       "45.0"
      ]
     },
     "metadata": {},
     "execution_count": 15
    }
   ],
   "source": [
    "(5 + 4) * 10 / 2 # 45.0"
   ]
  },
  {
   "cell_type": "code",
   "execution_count": 16,
   "metadata": {},
   "outputs": [
    {
     "output_type": "execute_result",
     "data": {
      "text/plain": [
       "45.0"
      ]
     },
     "metadata": {},
     "execution_count": 16
    }
   ],
   "source": [
    "((5 + 4) * 10) / 2 # 45.0"
   ]
  },
  {
   "cell_type": "code",
   "execution_count": 17,
   "metadata": {},
   "outputs": [
    {
     "output_type": "execute_result",
     "data": {
      "text/plain": [
       "45.0"
      ]
     },
     "metadata": {},
     "execution_count": 17
    }
   ],
   "source": [
    "(5 + 4) * (10 / 2) # 45.0"
   ]
  },
  {
   "cell_type": "code",
   "execution_count": 18,
   "metadata": {},
   "outputs": [
    {
     "output_type": "execute_result",
     "data": {
      "text/plain": [
       "25.0"
      ]
     },
     "metadata": {},
     "execution_count": 18
    }
   ],
   "source": [
    "5 + (4 * 10) / 2 # 25.0"
   ]
  },
  {
   "cell_type": "code",
   "execution_count": 19,
   "metadata": {},
   "outputs": [
    {
     "output_type": "execute_result",
     "data": {
      "text/plain": [
       "25"
      ]
     },
     "metadata": {},
     "execution_count": 19
    }
   ],
   "source": [
    "5 + 4 * 10 // 2 # 25"
   ]
  },
  {
   "source": [
    "## Misc. functions that are worth checking out\n",
    "\n",
    "**1. `bin()`** - converts the input number to binary (1's and 0's)"
   ],
   "cell_type": "markdown",
   "metadata": {}
  },
  {
   "cell_type": "code",
   "execution_count": 20,
   "metadata": {},
   "outputs": [
    {
     "output_type": "execute_result",
     "data": {
      "text/plain": [
       "'0b1111111111111111111111111111111'"
      ]
     },
     "metadata": {},
     "execution_count": 20
    }
   ],
   "source": [
    "bin(2147483647) # 0b1111111111111111111111111111111"
   ]
  },
  {
   "source": [
    "You can also turn binary numbers back to decimal numbers like so:"
   ],
   "cell_type": "markdown",
   "metadata": {}
  },
  {
   "cell_type": "code",
   "execution_count": 21,
   "metadata": {},
   "outputs": [
    {
     "output_type": "execute_result",
     "data": {
      "text/plain": [
       "2147483648"
      ]
     },
     "metadata": {},
     "execution_count": 21
    }
   ],
   "source": [
    "int('0b10000000000000000000000000000000', 2) # 2147483648"
   ]
  },
  {
   "source": [
    "**2. `complex()`** - Creates a [complex number](https://en.wikipedia.org/wiki/Complex_number)"
   ],
   "cell_type": "markdown",
   "metadata": {}
  },
  {
   "cell_type": "code",
   "execution_count": 22,
   "metadata": {},
   "outputs": [
    {
     "output_type": "execute_result",
     "data": {
      "text/plain": [
       "(1+2j)"
      ]
     },
     "metadata": {},
     "execution_count": 22
    }
   ],
   "source": [
    "complex(1, 2) # (1+2j)"
   ]
  },
  {
   "source": [
    "Fun fact: these complex numbers actually have their own data type in Python:"
   ],
   "cell_type": "markdown",
   "metadata": {}
  },
  {
   "cell_type": "code",
   "execution_count": 23,
   "metadata": {},
   "outputs": [
    {
     "output_type": "execute_result",
     "data": {
      "text/plain": [
       "complex"
      ]
     },
     "metadata": {},
     "execution_count": 23
    }
   ],
   "source": [
    "type(1+2j) # complex"
   ]
  },
  {
   "source": [
    "> Note: The letter 'j' doesn't automatically represent a complex number, but the value (1j) does!"
   ],
   "cell_type": "markdown",
   "metadata": {}
  },
  {
   "cell_type": "code",
   "execution_count": 24,
   "metadata": {},
   "outputs": [
    {
     "output_type": "error",
     "ename": "NameError",
     "evalue": "name 'j' is not defined",
     "traceback": [
      "\u001b[1;31m---------------------------------------------------------------------------\u001b[0m",
      "\u001b[1;31mNameError\u001b[0m                                 Traceback (most recent call last)",
      "\u001b[1;32m<ipython-input-24-e66292d134b9>\u001b[0m in \u001b[0;36m<module>\u001b[1;34m\u001b[0m\n\u001b[1;32m----> 1\u001b[1;33m \u001b[0mtype\u001b[0m\u001b[1;33m(\u001b[0m\u001b[0mj\u001b[0m\u001b[1;33m)\u001b[0m \u001b[1;31m# NameError: name 'j' is not defined\u001b[0m\u001b[1;33m\u001b[0m\u001b[1;33m\u001b[0m\u001b[0m\n\u001b[0m",
      "\u001b[1;31mNameError\u001b[0m: name 'j' is not defined"
     ]
    }
   ],
   "source": [
    "type(j) # NameError: name 'j' is not defined"
   ]
  },
  {
   "cell_type": "code",
   "execution_count": 25,
   "metadata": {},
   "outputs": [
    {
     "output_type": "execute_result",
     "data": {
      "text/plain": [
       "complex"
      ]
     },
     "metadata": {},
     "execution_count": 25
    }
   ],
   "source": [
    "type(1j) # complex"
   ]
  }
 ]
}