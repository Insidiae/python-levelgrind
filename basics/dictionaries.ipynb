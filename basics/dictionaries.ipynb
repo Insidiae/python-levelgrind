{
 "metadata": {
  "language_info": {
   "codemirror_mode": {
    "name": "ipython",
    "version": 3
   },
   "file_extension": ".py",
   "mimetype": "text/x-python",
   "name": "python",
   "nbconvert_exporter": "python",
   "pygments_lexer": "ipython3",
   "version": "3.9.1"
  },
  "orig_nbformat": 2,
  "kernelspec": {
   "name": "python391jvsc74a57bd0627bc1dc5605f05dc37c8e2d8aef233aa0f653871f776dbfe042e2630fc393a3",
   "display_name": "Python 3.9.1 64-bit (conda)"
  }
 },
 "nbformat": 4,
 "nbformat_minor": 2,
 "cells": [
  {
   "source": [
    "# Dictionaries\n",
    "\n",
    "Dictionaries are another type of data structure that Python offers. A dictionary represents a collection of items stored via *key-value pairs*. Unlike lists, whose items are indexed by numbers, dictionaries use the *keys* to access the *values* or the items they are associated with.\n",
    "\n",
    "To create a dictionary in Python, you use curly brackets containing the `key:value` pairs for every item in the list:"
   ],
   "cell_type": "markdown",
   "metadata": {}
  },
  {
   "cell_type": "code",
   "execution_count": 1,
   "metadata": {},
   "outputs": [
    {
     "output_type": "execute_result",
     "data": {
      "text/plain": [
       "dict"
      ]
     },
     "metadata": {},
     "execution_count": 1
    }
   ],
   "source": [
    "type({ \"item1\": \"abc\", \"item2\": 123 })"
   ]
  },
  {
   "source": [
    "You can also use numbers as keys in a dictionary:"
   ],
   "cell_type": "markdown",
   "metadata": {}
  },
  {
   "cell_type": "code",
   "execution_count": 2,
   "metadata": {},
   "outputs": [
    {
     "output_type": "execute_result",
     "data": {
      "text/plain": [
       "dict"
      ]
     },
     "metadata": {},
     "execution_count": 2
    }
   ],
   "source": [
    "type({ 1: \"abc\", 2: 123 })"
   ]
  },
  {
   "source": [
    "## Accessing Items in a Dictionary\n",
    "\n",
    "Similar to lists, you use square brackets containing the index of the item you want to access. To access items in a dictionary, you use the *keys* as the index:"
   ],
   "cell_type": "markdown",
   "metadata": {}
  },
  {
   "cell_type": "code",
   "execution_count": 3,
   "metadata": {},
   "outputs": [
    {
     "output_type": "stream",
     "name": "stdout",
     "text": [
      "NoobMaster69\n"
     ]
    }
   ],
   "source": [
    "player_data = {\n",
    "    \"id\": \"abc123\",\n",
    "    \"username\": \"NoobMaster69\",\n",
    "    \"rank\": 420,\n",
    "    \"level\": 96,\n",
    "    \"exp\": 133742069,\n",
    "}\n",
    "print(player_data[\"username\"])"
   ]
  },
  {
   "source": [
    "## Built-in Dictionary Methods\n",
    "\n",
    "Dictionaries have useful built-in methods to help with common tasks:\n",
    "\n",
    "**1. `get()`** - *Get*s the value in the dictionarry associated with the given key. If the key does not exist within the dictionary, returns `None` instead."
   ],
   "cell_type": "markdown",
   "metadata": {}
  },
  {
   "cell_type": "code",
   "execution_count": 4,
   "metadata": {},
   "outputs": [
    {
     "output_type": "execute_result",
     "data": {
      "text/plain": [
       "'abc123'"
      ]
     },
     "metadata": {},
     "execution_count": 4
    }
   ],
   "source": [
    "player_data.get(\"id\")"
   ]
  },
  {
   "cell_type": "code",
   "execution_count": 5,
   "metadata": {},
   "outputs": [
    {
     "output_type": "stream",
     "name": "stdout",
     "text": [
      "None\n"
     ]
    }
   ],
   "source": [
    "print(player_data.get(\"guild\"))"
   ]
  },
  {
   "source": [
    "You can also specify a default value to return if the key you're trying to get does not exist in the dictionary:"
   ],
   "cell_type": "markdown",
   "metadata": {}
  },
  {
   "cell_type": "code",
   "execution_count": 6,
   "metadata": {},
   "outputs": [
    {
     "output_type": "execute_result",
     "data": {
      "text/plain": [
       "'No Guild'"
      ]
     },
     "metadata": {},
     "execution_count": 6
    }
   ],
   "source": [
    "player_data.get(\"guild\", \"No Guild\")"
   ]
  },
  {
   "source": [
    "You can also use the `in` keyword to quickly look for keys in the dictionary:"
   ],
   "cell_type": "markdown",
   "metadata": {}
  },
  {
   "cell_type": "code",
   "execution_count": 7,
   "metadata": {},
   "outputs": [
    {
     "output_type": "execute_result",
     "data": {
      "text/plain": [
       "True"
      ]
     },
     "metadata": {},
     "execution_count": 7
    }
   ],
   "source": [
    "\"rank\" in player_data"
   ]
  },
  {
   "cell_type": "code",
   "execution_count": 8,
   "metadata": {},
   "outputs": [
    {
     "output_type": "execute_result",
     "data": {
      "text/plain": [
       "False"
      ]
     },
     "metadata": {},
     "execution_count": 8
    }
   ],
   "source": [
    "\"guild\" in player_data"
   ]
  },
  {
   "source": [
    "**2. `keys()`** - Returns an iterable object containing all the *keys* within the dictionary."
   ],
   "cell_type": "markdown",
   "metadata": {}
  },
  {
   "cell_type": "code",
   "execution_count": 9,
   "metadata": {},
   "outputs": [
    {
     "output_type": "execute_result",
     "data": {
      "text/plain": [
       "dict_keys(['id', 'username', 'rank', 'level', 'exp'])"
      ]
     },
     "metadata": {},
     "execution_count": 9
    }
   ],
   "source": [
    "player_data.keys()"
   ]
  },
  {
   "cell_type": "code",
   "execution_count": 10,
   "metadata": {},
   "outputs": [
    {
     "output_type": "execute_result",
     "data": {
      "text/plain": [
       "dict_keys"
      ]
     },
     "metadata": {},
     "execution_count": 10
    }
   ],
   "source": [
    "type(player_data.keys())"
   ]
  },
  {
   "source": [
    "You can also create a new list from the output of `keys()`:"
   ],
   "cell_type": "markdown",
   "metadata": {}
  },
  {
   "cell_type": "code",
   "execution_count": 11,
   "metadata": {},
   "outputs": [
    {
     "output_type": "execute_result",
     "data": {
      "text/plain": [
       "['id', 'username', 'rank', 'level', 'exp']"
      ]
     },
     "metadata": {},
     "execution_count": 11
    }
   ],
   "source": [
    "list(player_data.keys())"
   ]
  },
  {
   "source": [
    "**3. `values()`** - Returns an iterable object containing all the *values* within the dictionary."
   ],
   "cell_type": "markdown",
   "metadata": {}
  },
  {
   "cell_type": "code",
   "execution_count": 12,
   "metadata": {},
   "outputs": [
    {
     "output_type": "execute_result",
     "data": {
      "text/plain": [
       "dict_values(['abc123', 'NoobMaster69', 420, 96, 133742069])"
      ]
     },
     "metadata": {},
     "execution_count": 12
    }
   ],
   "source": [
    "player_data.values()"
   ]
  },
  {
   "cell_type": "code",
   "execution_count": 13,
   "metadata": {},
   "outputs": [
    {
     "output_type": "execute_result",
     "data": {
      "text/plain": [
       "dict_values"
      ]
     },
     "metadata": {},
     "execution_count": 13
    }
   ],
   "source": [
    "type(player_data.values())"
   ]
  },
  {
   "cell_type": "code",
   "execution_count": 14,
   "metadata": {},
   "outputs": [
    {
     "output_type": "execute_result",
     "data": {
      "text/plain": [
       "['abc123', 'NoobMaster69', 420, 96, 133742069]"
      ]
     },
     "metadata": {},
     "execution_count": 14
    }
   ],
   "source": [
    "list(player_data.values())"
   ]
  },
  {
   "source": [
    "**4. `items()`** - Returns an iterable object containing all the key-value pairs within the dictionary."
   ],
   "cell_type": "markdown",
   "metadata": {}
  },
  {
   "cell_type": "code",
   "execution_count": 15,
   "metadata": {},
   "outputs": [
    {
     "output_type": "execute_result",
     "data": {
      "text/plain": [
       "dict_items([('id', 'abc123'), ('username', 'NoobMaster69'), ('rank', 420), ('level', 96), ('exp', 133742069)])"
      ]
     },
     "metadata": {},
     "execution_count": 15
    }
   ],
   "source": [
    "player_data.items()"
   ]
  },
  {
   "cell_type": "code",
   "execution_count": 16,
   "metadata": {},
   "outputs": [
    {
     "output_type": "execute_result",
     "data": {
      "text/plain": [
       "dict_items"
      ]
     },
     "metadata": {},
     "execution_count": 16
    }
   ],
   "source": [
    "type(player_data.items())"
   ]
  },
  {
   "cell_type": "code",
   "execution_count": 17,
   "metadata": {},
   "outputs": [
    {
     "output_type": "execute_result",
     "data": {
      "text/plain": [
       "[('id', 'abc123'),\n",
       " ('username', 'NoobMaster69'),\n",
       " ('rank', 420),\n",
       " ('level', 96),\n",
       " ('exp', 133742069)]"
      ]
     },
     "metadata": {},
     "execution_count": 17
    }
   ],
   "source": [
    "list(player_data.items())"
   ]
  },
  {
   "source": [
    "**5. `clear()`** - *Clears* all items from the dictionary."
   ],
   "cell_type": "markdown",
   "metadata": {}
  },
  {
   "cell_type": "code",
   "execution_count": 18,
   "metadata": {},
   "outputs": [
    {
     "output_type": "stream",
     "name": "stdout",
     "text": [
      "{}\n"
     ]
    }
   ],
   "source": [
    "delete_this = { \"item1\": \"abc\", \"item2\": 123 }\n",
    "delete_this.clear()\n",
    "print(delete_this)"
   ]
  },
  {
   "source": [
    "**6. `copy()`** - Creates a new *copy* of the dictionary."
   ],
   "cell_type": "markdown",
   "metadata": {}
  },
  {
   "cell_type": "code",
   "execution_count": 19,
   "metadata": {},
   "outputs": [
    {
     "output_type": "execute_result",
     "data": {
      "text/plain": [
       "{'id': 'abc123',\n",
       " 'username': 'NoobMaster69',\n",
       " 'rank': 420,\n",
       " 'level': 96,\n",
       " 'exp': 133742069}"
      ]
     },
     "metadata": {},
     "execution_count": 19
    }
   ],
   "source": [
    "player2_data = player_data.copy()\n",
    "player2_data"
   ]
  },
  {
   "source": [
    "**7. `pop()`** - Removes the specified key along with its associated value from the dictionary."
   ],
   "cell_type": "markdown",
   "metadata": {}
  },
  {
   "cell_type": "code",
   "execution_count": 20,
   "metadata": {},
   "outputs": [
    {
     "output_type": "execute_result",
     "data": {
      "text/plain": [
       "{'id': 'abc123', 'username': 'NoobMaster69', 'rank': 420, 'level': 96}"
      ]
     },
     "metadata": {},
     "execution_count": 20
    }
   ],
   "source": [
    "player2_data.pop(\"exp\")\n",
    "player2_data"
   ]
  },
  {
   "source": [
    "**8. `update()`** - *Updates* items within the dictionary using key-value pairs."
   ],
   "cell_type": "markdown",
   "metadata": {}
  },
  {
   "cell_type": "code",
   "execution_count": 21,
   "metadata": {},
   "outputs": [
    {
     "output_type": "execute_result",
     "data": {
      "text/plain": [
       "{'id': 'abc124', 'username': 'TheLegend27', 'rank': 420, 'level': 99}"
      ]
     },
     "metadata": {},
     "execution_count": 21
    }
   ],
   "source": [
    "player2_data.update({\"id\": \"abc124\", \"username\": \"TheLegend27\", \"level\": 99})\n",
    "player2_data"
   ]
  }
 ]
}