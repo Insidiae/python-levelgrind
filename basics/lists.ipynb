{
 "metadata": {
  "language_info": {
   "codemirror_mode": {
    "name": "ipython",
    "version": 3
   },
   "file_extension": ".py",
   "mimetype": "text/x-python",
   "name": "python",
   "nbconvert_exporter": "python",
   "pygments_lexer": "ipython3",
   "version": "3.9.1"
  },
  "orig_nbformat": 2,
  "kernelspec": {
   "name": "python391jvsc74a57bd0627bc1dc5605f05dc37c8e2d8aef233aa0f653871f776dbfe042e2630fc393a3",
   "display_name": "Python 3.9.1 64-bit (conda)"
  }
 },
 "nbformat": 4,
 "nbformat_minor": 2,
 "cells": [
  {
   "source": [
    "# Lists\n",
    "\n",
    "Lists represent a collection of items. In Python, you can define a list by *list*ing comma separated values between square brackets `[]`."
   ],
   "cell_type": "markdown",
   "metadata": {}
  },
  {
   "cell_type": "code",
   "execution_count": 1,
   "metadata": {},
   "outputs": [
    {
     "output_type": "stream",
     "name": "stdout",
     "text": [
      "[0, 1, 2, 3, 4, 5]\n"
     ]
    }
   ],
   "source": [
    "num_list = [0, 1, 2, 3, 4, 5]\n",
    "print(num_list)"
   ]
  },
  {
   "cell_type": "code",
   "execution_count": 2,
   "metadata": {},
   "outputs": [
    {
     "output_type": "execute_result",
     "data": {
      "text/plain": [
       "list"
      ]
     },
     "metadata": {},
     "execution_count": 2
    }
   ],
   "source": [
    "type(num_list)"
   ]
  },
  {
   "cell_type": "code",
   "execution_count": 3,
   "metadata": {},
   "outputs": [
    {
     "output_type": "stream",
     "name": "stdout",
     "text": [
      "['a', 'b', 'c', 'd', 'e', 'f']\n"
     ]
    }
   ],
   "source": [
    "str_list = [\"a\", \"b\", \"c\", \"d\", \"e\", \"f\"]\n",
    "print(str_list)"
   ]
  },
  {
   "source": [
    "You can even mix and match different types of items inside a list:"
   ],
   "cell_type": "markdown",
   "metadata": {}
  },
  {
   "cell_type": "code",
   "execution_count": 4,
   "metadata": {},
   "outputs": [
    {
     "output_type": "stream",
     "name": "stdout",
     "text": [
      "[1, 2, 'a', 'b', True, None]\n"
     ]
    }
   ],
   "source": [
    "mixed_list = [1, 2, \"a\", \"b\", True, None]\n",
    "print(mixed_list)"
   ]
  },
  {
   "source": [
    "## Accessing Items Within Lists\n",
    "\n",
    "Like strings, you can also access the items within the list by using square brackets containing the index of the item you want to access, starting from 0."
   ],
   "cell_type": "markdown",
   "metadata": {}
  },
  {
   "cell_type": "code",
   "execution_count": 5,
   "metadata": {},
   "outputs": [
    {
     "output_type": "execute_result",
     "data": {
      "text/plain": [
       "'a'"
      ]
     },
     "metadata": {},
     "execution_count": 5
    }
   ],
   "source": [
    "str_list[0]"
   ]
  },
  {
   "cell_type": "code",
   "execution_count": 6,
   "metadata": {},
   "outputs": [
    {
     "output_type": "execute_result",
     "data": {
      "text/plain": [
       "'b'"
      ]
     },
     "metadata": {},
     "execution_count": 6
    }
   ],
   "source": [
    "str_list[1]"
   ]
  },
  {
   "source": [
    "You can also access items starting from the end of the list by using negative indices:"
   ],
   "cell_type": "markdown",
   "metadata": {}
  },
  {
   "cell_type": "code",
   "execution_count": 7,
   "metadata": {},
   "outputs": [
    {
     "output_type": "execute_result",
     "data": {
      "text/plain": [
       "'f'"
      ]
     },
     "metadata": {},
     "execution_count": 7
    }
   ],
   "source": [
    "str_list[-1]"
   ]
  },
  {
   "cell_type": "code",
   "execution_count": 8,
   "metadata": {},
   "outputs": [
    {
     "output_type": "execute_result",
     "data": {
      "text/plain": [
       "'e'"
      ]
     },
     "metadata": {},
     "execution_count": 8
    }
   ],
   "source": [
    "str_list[-2]"
   ]
  },
  {
   "source": [
    "And you can access multiple items within the list by specifying the `start:end:step` values inside the square brackets:"
   ],
   "cell_type": "markdown",
   "metadata": {}
  },
  {
   "cell_type": "code",
   "execution_count": 9,
   "metadata": {},
   "outputs": [
    {
     "output_type": "execute_result",
     "data": {
      "text/plain": [
       "['a', 'c', 'e']"
      ]
     },
     "metadata": {},
     "execution_count": 9
    }
   ],
   "source": [
    "str_list[0:5:2]"
   ]
  },
  {
   "source": [
    "## Lists Are Mutable\n",
    "\n",
    "Unlike strings, you can modify specific items within the list by directly modifying them via their indices:"
   ],
   "cell_type": "markdown",
   "metadata": {}
  },
  {
   "cell_type": "code",
   "execution_count": 10,
   "metadata": {},
   "outputs": [
    {
     "output_type": "stream",
     "name": "stdout",
     "text": [
      "[1, 2, 3, 4, 5]\n"
     ]
    }
   ],
   "source": [
    "mutant = [1, 2, 3, 4, 5]\n",
    "print(mutant)"
   ]
  },
  {
   "cell_type": "code",
   "execution_count": 11,
   "metadata": {},
   "outputs": [
    {
     "output_type": "stream",
     "name": "stdout",
     "text": [
      "[-1, 2, 3, 4, 5]\n"
     ]
    }
   ],
   "source": [
    "mutant[0] = -1\n",
    "print(mutant)"
   ]
  },
  {
   "source": [
    "## Copying/Slicing lists\n",
    "\n",
    "As mentioned above, you can use the `start:end:step` values to access multiple items in a list. This actually creates a new, separate list containing the part (or *slice*) of the list accessed by the specified values. You can even store the new list into a separate variable:"
   ],
   "cell_type": "markdown",
   "metadata": {}
  },
  {
   "cell_type": "code",
   "execution_count": 12,
   "metadata": {},
   "outputs": [],
   "source": [
    "amazon_cart = [\"notebook\", \"sunglasses\", \"toys\", \"grapes\"]\n",
    "duplicate_cart = amazon_cart[:]\n",
    "duplicate_cart[0] = \"laptop\""
   ]
  },
  {
   "cell_type": "code",
   "execution_count": 13,
   "metadata": {},
   "outputs": [
    {
     "output_type": "execute_result",
     "data": {
      "text/plain": [
       "['laptop', 'sunglasses', 'toys', 'grapes']"
      ]
     },
     "metadata": {},
     "execution_count": 13
    }
   ],
   "source": [
    "duplicate_cart"
   ]
  },
  {
   "cell_type": "code",
   "execution_count": 14,
   "metadata": {},
   "outputs": [
    {
     "output_type": "execute_result",
     "data": {
      "text/plain": [
       "['notebook', 'sunglasses', 'toys', 'grapes']"
      ]
     },
     "metadata": {},
     "execution_count": 14
    }
   ],
   "source": [
    "amazon_cart"
   ]
  },
  {
   "source": [
    "If you do not use square brackets to slice the list, the copied list will actually point to the same location in memory as the original, and whatever change you make on either the original or the copy will also be reflected on the other!"
   ],
   "cell_type": "markdown",
   "metadata": {}
  },
  {
   "cell_type": "code",
   "execution_count": 15,
   "metadata": {},
   "outputs": [],
   "source": [
    "new_cart = amazon_cart\n",
    "new_cart[0] = \"gum\""
   ]
  },
  {
   "cell_type": "code",
   "execution_count": 16,
   "metadata": {},
   "outputs": [
    {
     "output_type": "execute_result",
     "data": {
      "text/plain": [
       "['gum', 'sunglasses', 'toys', 'grapes']"
      ]
     },
     "metadata": {},
     "execution_count": 16
    }
   ],
   "source": [
    "new_cart"
   ]
  },
  {
   "cell_type": "code",
   "execution_count": 17,
   "metadata": {},
   "outputs": [
    {
     "output_type": "execute_result",
     "data": {
      "text/plain": [
       "['gum', 'sunglasses', 'toys', 'grapes']"
      ]
     },
     "metadata": {},
     "execution_count": 17
    }
   ],
   "source": [
    "amazon_cart"
   ]
  },
  {
   "source": [
    "## Yo Dawg, I Heard You Like Lists\n",
    "\n",
    "Lists can also contain other lists. You can think of each individual sub-list as if they're just items within the bigger list:"
   ],
   "cell_type": "markdown",
   "metadata": {}
  },
  {
   "cell_type": "code",
   "execution_count": 18,
   "metadata": {},
   "outputs": [
    {
     "output_type": "stream",
     "name": "stdout",
     "text": [
      "[[1, 2, 3], [4, 5, 6], [7, 8, 9]]\n"
     ]
    }
   ],
   "source": [
    "sub_list1 = [1, 2, 3]\n",
    "sub_list2 = [4, 5, 6]\n",
    "sub_list3 = [7, 8, 9]\n",
    "big_list = [sub_list1, sub_list2, sub_list3]\n",
    "print(big_list)"
   ]
  },
  {
   "source": [
    "You can also directly add lists within a list like so:"
   ],
   "cell_type": "markdown",
   "metadata": {}
  },
  {
   "cell_type": "code",
   "execution_count": 19,
   "metadata": {},
   "outputs": [
    {
     "output_type": "stream",
     "name": "stdout",
     "text": [
      "[['a', 'b', 'c'], ['d', 'e', 'f'], ['g', 'h', 'i']]\n"
     ]
    }
   ],
   "source": [
    "big_list2 = [[\"a\", \"b\", \"c\"], [\"d\", \"e\", \"f\"], [\"g\", \"h\", \"i\"]]\n",
    "print(big_list2)"
   ]
  },
  {
   "source": [
    "As you can expect, using only one square bracket simply prints out the whole sub-list:"
   ],
   "cell_type": "markdown",
   "metadata": {}
  },
  {
   "cell_type": "code",
   "execution_count": 20,
   "metadata": {},
   "outputs": [
    {
     "output_type": "execute_result",
     "data": {
      "text/plain": [
       "[1, 2, 3]"
      ]
     },
     "metadata": {},
     "execution_count": 20
    }
   ],
   "source": [
    "big_list[0]"
   ]
  },
  {
   "source": [
    "You can access the items in the nested sub-list by simply using another square bracket containing the index value:"
   ],
   "cell_type": "markdown",
   "metadata": {}
  },
  {
   "cell_type": "code",
   "execution_count": 21,
   "metadata": {},
   "outputs": [
    {
     "output_type": "execute_result",
     "data": {
      "text/plain": [
       "4"
      ]
     },
     "metadata": {},
     "execution_count": 21
    }
   ],
   "source": [
    "big_list[1][0]"
   ]
  },
  {
   "cell_type": "code",
   "execution_count": 22,
   "metadata": {},
   "outputs": [
    {
     "output_type": "execute_result",
     "data": {
      "text/plain": [
       "9"
      ]
     },
     "metadata": {},
     "execution_count": 22
    }
   ],
   "source": [
    "big_list[-1][-1]"
   ]
  },
  {
   "source": [
    "## Built-in List Methods\n",
    "\n",
    "Lists also have their own built-in functions and methods that can do useful tasks:\n",
    "\n",
    "**1. `len()`** - Like with strings, the `len()` *function* gets the length or the number of items in the list."
   ],
   "cell_type": "markdown",
   "metadata": {}
  },
  {
   "cell_type": "code",
   "execution_count": 23,
   "metadata": {},
   "outputs": [
    {
     "output_type": "execute_result",
     "data": {
      "text/plain": [
       "[0, 1, 2, 3, 4, 5]"
      ]
     },
     "metadata": {},
     "execution_count": 23
    }
   ],
   "source": [
    "num_list"
   ]
  },
  {
   "cell_type": "code",
   "execution_count": 24,
   "metadata": {},
   "outputs": [
    {
     "output_type": "execute_result",
     "data": {
      "text/plain": [
       "6"
      ]
     },
     "metadata": {},
     "execution_count": 24
    }
   ],
   "source": [
    "len(num_list)"
   ]
  },
  {
   "source": [
    "**2. `append()`** - adds (or *appends*) an item to the end of the list"
   ],
   "cell_type": "markdown",
   "metadata": {}
  },
  {
   "cell_type": "code",
   "execution_count": 25,
   "metadata": {},
   "outputs": [
    {
     "output_type": "stream",
     "name": "stdout",
     "text": [
      "[0, 1, 2, 3, 4, 5, 6]\n"
     ]
    }
   ],
   "source": [
    "num_list.append(6)\n",
    "print(num_list)"
   ]
  },
  {
   "source": [
    "**3. `insert()`** - At a specified index in the list, *inserts* an item"
   ],
   "cell_type": "markdown",
   "metadata": {}
  },
  {
   "cell_type": "code",
   "execution_count": 26,
   "metadata": {},
   "outputs": [
    {
     "output_type": "stream",
     "name": "stdout",
     "text": [
      "[0, 1, 100, 2, 3, 4, 5, 6]\n"
     ]
    }
   ],
   "source": [
    "num_list.insert(2, 100)\n",
    "print(num_list)"
   ]
  },
  {
   "source": [
    "**4. `extend()`** - *Extends* a list by copying the elements of another list and appends them to the end of the original list"
   ],
   "cell_type": "markdown",
   "metadata": {}
  },
  {
   "cell_type": "code",
   "execution_count": 27,
   "metadata": {},
   "outputs": [],
   "source": [
    "num_list2 = [7, 8, 9]\n",
    "num_list.extend(num_list2)"
   ]
  },
  {
   "cell_type": "code",
   "execution_count": 28,
   "metadata": {},
   "outputs": [
    {
     "output_type": "execute_result",
     "data": {
      "text/plain": [
       "[0, 1, 100, 2, 3, 4, 5, 6, 7, 8, 9]"
      ]
     },
     "metadata": {},
     "execution_count": 28
    }
   ],
   "source": [
    "num_list"
   ]
  },
  {
   "cell_type": "code",
   "execution_count": 29,
   "metadata": {},
   "outputs": [
    {
     "output_type": "execute_result",
     "data": {
      "text/plain": [
       "[7, 8, 9]"
      ]
     },
     "metadata": {},
     "execution_count": 29
    }
   ],
   "source": [
    "num_list2"
   ]
  },
  {
   "source": [
    "**5. `pop()`** - Removes an item from the end of the list"
   ],
   "cell_type": "markdown",
   "metadata": {}
  },
  {
   "cell_type": "code",
   "execution_count": 30,
   "metadata": {},
   "outputs": [
    {
     "output_type": "execute_result",
     "data": {
      "text/plain": [
       "9"
      ]
     },
     "metadata": {},
     "execution_count": 30
    }
   ],
   "source": [
    "num_list.pop()"
   ]
  },
  {
   "cell_type": "code",
   "execution_count": 31,
   "metadata": {},
   "outputs": [
    {
     "output_type": "execute_result",
     "data": {
      "text/plain": [
       "[0, 1, 100, 2, 3, 4, 5, 6, 7, 8]"
      ]
     },
     "metadata": {},
     "execution_count": 31
    }
   ],
   "source": [
    "num_list"
   ]
  },
  {
   "source": [
    "You can also pass an inded to `pop()` to remove the item at that index instead:"
   ],
   "cell_type": "markdown",
   "metadata": {}
  },
  {
   "cell_type": "code",
   "execution_count": 32,
   "metadata": {},
   "outputs": [
    {
     "output_type": "execute_result",
     "data": {
      "text/plain": [
       "0"
      ]
     },
     "metadata": {},
     "execution_count": 32
    }
   ],
   "source": [
    "num_list.pop(0)"
   ]
  },
  {
   "cell_type": "code",
   "execution_count": 33,
   "metadata": {},
   "outputs": [
    {
     "output_type": "execute_result",
     "data": {
      "text/plain": [
       "[1, 100, 2, 3, 4, 5, 6, 7, 8]"
      ]
     },
     "metadata": {},
     "execution_count": 33
    }
   ],
   "source": [
    "num_list"
   ]
  },
  {
   "source": [
    "**6. `remove()`** - Removes the first occurence of the given value from the list"
   ],
   "cell_type": "markdown",
   "metadata": {}
  },
  {
   "cell_type": "code",
   "execution_count": 34,
   "metadata": {},
   "outputs": [
    {
     "output_type": "stream",
     "name": "stdout",
     "text": [
      "[1, 2, 3, 4, 5, 6, 7, 8]\n"
     ]
    }
   ],
   "source": [
    "num_list.remove(100)\n",
    "print(num_list)"
   ]
  },
  {
   "source": [
    "**7. `clear()`** - Removes ***ALL*** items from the list"
   ],
   "cell_type": "markdown",
   "metadata": {}
  },
  {
   "cell_type": "code",
   "execution_count": 35,
   "metadata": {},
   "outputs": [
    {
     "output_type": "stream",
     "name": "stdout",
     "text": [
      "[]\n"
     ]
    }
   ],
   "source": [
    "num_list2.clear()\n",
    "print(num_list2)"
   ]
  },
  {
   "source": [
    "**8. `index()`** - Returns the index of a given item within the list"
   ],
   "cell_type": "markdown",
   "metadata": {}
  },
  {
   "cell_type": "code",
   "execution_count": 36,
   "metadata": {},
   "outputs": [
    {
     "output_type": "execute_result",
     "data": {
      "text/plain": [
       "['a', 'b', 'c', 'd', 'e', 'f']"
      ]
     },
     "metadata": {},
     "execution_count": 36
    }
   ],
   "source": [
    "str_list"
   ]
  },
  {
   "cell_type": "code",
   "execution_count": 37,
   "metadata": {},
   "outputs": [
    {
     "output_type": "execute_result",
     "data": {
      "text/plain": [
       "2"
      ]
     },
     "metadata": {},
     "execution_count": 37
    }
   ],
   "source": [
    "str_list.index(\"c\")"
   ]
  },
  {
   "source": [
    "If you're not sure whether the given item is actually in the list or not, you can use the `in` keyword instead:"
   ],
   "cell_type": "markdown",
   "metadata": {}
  },
  {
   "cell_type": "code",
   "execution_count": 38,
   "metadata": {},
   "outputs": [
    {
     "output_type": "execute_result",
     "data": {
      "text/plain": [
       "True"
      ]
     },
     "metadata": {},
     "execution_count": 38
    }
   ],
   "source": [
    "\"e\" in str_list"
   ]
  },
  {
   "cell_type": "code",
   "execution_count": 39,
   "metadata": {},
   "outputs": [
    {
     "output_type": "execute_result",
     "data": {
      "text/plain": [
       "True"
      ]
     },
     "metadata": {},
     "execution_count": 39
    }
   ],
   "source": [
    "\"f\" in str_list"
   ]
  },
  {
   "source": [
    "If you want to check if the given item is *not* in the list, you may also use the `not` keyword:"
   ],
   "cell_type": "markdown",
   "metadata": {}
  },
  {
   "cell_type": "code",
   "execution_count": 40,
   "metadata": {},
   "outputs": [
    {
     "output_type": "execute_result",
     "data": {
      "text/plain": [
       "True"
      ]
     },
     "metadata": {},
     "execution_count": 40
    }
   ],
   "source": [
    "not \"k\" in str_list"
   ]
  },
  {
   "cell_type": "code",
   "execution_count": 41,
   "metadata": {},
   "outputs": [
    {
     "output_type": "execute_result",
     "data": {
      "text/plain": [
       "True"
      ]
     },
     "metadata": {},
     "execution_count": 41
    }
   ],
   "source": [
    "\"z\" not in str_list"
   ]
  },
  {
   "source": [
    "> Note: You can use either `x not in y` or `not x in y` syntax and they will both give the same result. You can read the discussion about this topic [here](https://stackoverflow.com/questions/8738388/x-not-in-y-or-not-x-in-y)."
   ],
   "cell_type": "markdown",
   "metadata": {}
  },
  {
   "source": [
    "**9. `count()`** - *Counts* the number of occurences of the given item within the list"
   ],
   "cell_type": "markdown",
   "metadata": {}
  },
  {
   "cell_type": "code",
   "execution_count": 42,
   "metadata": {},
   "outputs": [
    {
     "output_type": "execute_result",
     "data": {
      "text/plain": [
       "1"
      ]
     },
     "metadata": {},
     "execution_count": 42
    }
   ],
   "source": [
    "str_list.count(\"e\")"
   ]
  },
  {
   "cell_type": "code",
   "execution_count": 43,
   "metadata": {},
   "outputs": [
    {
     "output_type": "execute_result",
     "data": {
      "text/plain": [
       "0"
      ]
     },
     "metadata": {},
     "execution_count": 43
    }
   ],
   "source": [
    "str_list.count(\"z\")"
   ]
  },
  {
   "source": [
    "**10. `sort()`** - *Sorts* the items in the list"
   ],
   "cell_type": "markdown",
   "metadata": {}
  },
  {
   "cell_type": "code",
   "execution_count": 44,
   "metadata": {},
   "outputs": [
    {
     "output_type": "stream",
     "name": "stdout",
     "text": [
      "[1, 2, 3, 4, 5]\n"
     ]
    }
   ],
   "source": [
    "unsorted_list = [5, 2, 3, 1, 4]\n",
    "unsorted_list.sort()\n",
    "print(unsorted_list)"
   ]
  },
  {
   "source": [
    "> Note: You can also pass other parameters into the `sort()` method to specify *how* to sort the list items. You can see a detailed guide [here](https://docs.python.org/3/howto/sorting.html#sortinghowto)."
   ],
   "cell_type": "markdown",
   "metadata": {}
  },
  {
   "source": [
    "The `sort()` method sorts the list items *in place*, meaning the original list gets changed after it runs. If you want to keep the original list unchanged, you might want to use the `sorted()` function instead to create a new sorted copy:"
   ],
   "cell_type": "markdown",
   "metadata": {}
  },
  {
   "cell_type": "code",
   "execution_count": 45,
   "metadata": {},
   "outputs": [
    {
     "output_type": "execute_result",
     "data": {
      "text/plain": [
       "[1, 2, 3, 4, 5]"
      ]
     },
     "metadata": {},
     "execution_count": 45
    }
   ],
   "source": [
    "unsorted_list = [5, 2, 3, 1, 4]\n",
    "sorted(unsorted_list)"
   ]
  },
  {
   "cell_type": "code",
   "execution_count": 46,
   "metadata": {},
   "outputs": [
    {
     "output_type": "execute_result",
     "data": {
      "text/plain": [
       "[5, 2, 3, 1, 4]"
      ]
     },
     "metadata": {},
     "execution_count": 46
    }
   ],
   "source": [
    "unsorted_list"
   ]
  },
  {
   "source": [
    "**11. `copy()`** - Returns a separate *copy* of the list"
   ],
   "cell_type": "markdown",
   "metadata": {}
  },
  {
   "cell_type": "code",
   "execution_count": 47,
   "metadata": {},
   "outputs": [
    {
     "output_type": "execute_result",
     "data": {
      "text/plain": [
       "[5, 2, 3, 1, 4]"
      ]
     },
     "metadata": {},
     "execution_count": 47
    }
   ],
   "source": [
    "unsorted_list.copy()"
   ]
  },
  {
   "source": [
    "> Note: This is functionally similar to slicing the original array and taking all values:"
   ],
   "cell_type": "markdown",
   "metadata": {}
  },
  {
   "cell_type": "code",
   "execution_count": 48,
   "metadata": {},
   "outputs": [
    {
     "output_type": "execute_result",
     "data": {
      "text/plain": [
       "[5, 2, 3, 1, 4]"
      ]
     },
     "metadata": {},
     "execution_count": 48
    }
   ],
   "source": [
    "unsorted_list[:]"
   ]
  },
  {
   "source": [
    "**12. `reverse()`** - *Reverses* the order of the items in the list"
   ],
   "cell_type": "markdown",
   "metadata": {}
  },
  {
   "cell_type": "code",
   "execution_count": 49,
   "metadata": {},
   "outputs": [
    {
     "output_type": "stream",
     "name": "stdout",
     "text": [
      "[5, 4, 3, 2, 1]\n"
     ]
    }
   ],
   "source": [
    "unsorted_list.sort()\n",
    "unsorted_list.reverse()\n",
    "print(unsorted_list)"
   ]
  },
  {
   "source": [
    "> Note: You can also slice the list and use a negative step value if you want to create a separate copy instead:"
   ],
   "cell_type": "markdown",
   "metadata": {}
  },
  {
   "cell_type": "code",
   "execution_count": 50,
   "metadata": {},
   "outputs": [
    {
     "output_type": "execute_result",
     "data": {
      "text/plain": [
       "[5, 4, 3, 2, 1]"
      ]
     },
     "metadata": {},
     "execution_count": 50
    }
   ],
   "source": [
    "unsorted_list.sort()\n",
    "unsorted_list[::-1]"
   ]
  },
  {
   "cell_type": "code",
   "execution_count": 51,
   "metadata": {},
   "outputs": [
    {
     "output_type": "execute_result",
     "data": {
      "text/plain": [
       "[1, 2, 3, 4, 5]"
      ]
     },
     "metadata": {},
     "execution_count": 51
    }
   ],
   "source": [
    "unsorted_list"
   ]
  },
  {
   "source": [
    "**13. `range()`** - A built-in *function* that creates a sequence of numbers. You can quickly create a numeric list by using the `range()` function like so:"
   ],
   "cell_type": "markdown",
   "metadata": {}
  },
  {
   "cell_type": "code",
   "execution_count": 52,
   "metadata": {},
   "outputs": [
    {
     "output_type": "execute_result",
     "data": {
      "text/plain": [
       "[1, 2, 3, 4, 5, 6, 7, 8, 9]"
      ]
     },
     "metadata": {},
     "execution_count": 52
    }
   ],
   "source": [
    "list(range(1,10))"
   ]
  },
  {
   "source": [
    "> Notice that the stop index does not get included in the sequence!"
   ],
   "cell_type": "markdown",
   "metadata": {}
  },
  {
   "source": [
    "**14. `join()`** - Technically a string method, `join()` takes a list of strings and *joins* the list items together to form a new string. The list items are separated using the string calling the `join()` method."
   ],
   "cell_type": "markdown",
   "metadata": {}
  },
  {
   "cell_type": "code",
   "execution_count": 53,
   "metadata": {},
   "outputs": [
    {
     "output_type": "execute_result",
     "data": {
      "text/plain": [
       "'Hello there General Kenobi'"
      ]
     },
     "metadata": {},
     "execution_count": 53
    }
   ],
   "source": [
    "separator = \" \"\n",
    "sentence = [\"Hello\", \"there\", \"General\", \"Kenobi\"]\n",
    "separator.join(sentence)"
   ]
  },
  {
   "source": [
    "You can also directly `join()` a string list like so:"
   ],
   "cell_type": "markdown",
   "metadata": {}
  },
  {
   "cell_type": "code",
   "execution_count": 54,
   "metadata": {},
   "outputs": [
    {
     "output_type": "execute_result",
     "data": {
      "text/plain": [
       "'Hello there General Kenobi'"
      ]
     },
     "metadata": {},
     "execution_count": 54
    }
   ],
   "source": [
    "\" \".join(sentence)"
   ]
  },
  {
   "source": [
    "## List Unpacking\n",
    "\n",
    "You can easily store the items in a list into specific variables using list unpacking:"
   ],
   "cell_type": "markdown",
   "metadata": {}
  },
  {
   "cell_type": "code",
   "execution_count": 55,
   "metadata": {},
   "outputs": [],
   "source": [
    "a, b, c = [1, 2, 3]"
   ]
  },
  {
   "cell_type": "code",
   "execution_count": 56,
   "metadata": {},
   "outputs": [
    {
     "output_type": "execute_result",
     "data": {
      "text/plain": [
       "1"
      ]
     },
     "metadata": {},
     "execution_count": 56
    }
   ],
   "source": [
    "a"
   ]
  },
  {
   "cell_type": "code",
   "execution_count": 57,
   "metadata": {},
   "outputs": [
    {
     "output_type": "execute_result",
     "data": {
      "text/plain": [
       "2"
      ]
     },
     "metadata": {},
     "execution_count": 57
    }
   ],
   "source": [
    "b"
   ]
  },
  {
   "cell_type": "code",
   "execution_count": 58,
   "metadata": {},
   "outputs": [
    {
     "output_type": "execute_result",
     "data": {
      "text/plain": [
       "3"
      ]
     },
     "metadata": {},
     "execution_count": 58
    }
   ],
   "source": [
    "c"
   ]
  },
  {
   "source": [
    "You can also use `*` to gather the rest of the list items in one variable:"
   ],
   "cell_type": "markdown",
   "metadata": {}
  },
  {
   "cell_type": "code",
   "execution_count": 59,
   "metadata": {},
   "outputs": [],
   "source": [
    "long_list = list(range(1,10))\n",
    "a, b, c, *other = long_list"
   ]
  },
  {
   "cell_type": "code",
   "execution_count": 60,
   "metadata": {},
   "outputs": [
    {
     "output_type": "execute_result",
     "data": {
      "text/plain": [
       "1"
      ]
     },
     "metadata": {},
     "execution_count": 60
    }
   ],
   "source": [
    "a"
   ]
  },
  {
   "cell_type": "code",
   "execution_count": 61,
   "metadata": {},
   "outputs": [
    {
     "output_type": "execute_result",
     "data": {
      "text/plain": [
       "2"
      ]
     },
     "metadata": {},
     "execution_count": 61
    }
   ],
   "source": [
    "b"
   ]
  },
  {
   "cell_type": "code",
   "execution_count": 62,
   "metadata": {},
   "outputs": [
    {
     "output_type": "execute_result",
     "data": {
      "text/plain": [
       "3"
      ]
     },
     "metadata": {},
     "execution_count": 62
    }
   ],
   "source": [
    "c"
   ]
  },
  {
   "cell_type": "code",
   "execution_count": 63,
   "metadata": {},
   "outputs": [
    {
     "output_type": "execute_result",
     "data": {
      "text/plain": [
       "[4, 5, 6, 7, 8, 9]"
      ]
     },
     "metadata": {},
     "execution_count": 63
    }
   ],
   "source": [
    "other"
   ]
  },
  {
   "source": [
    "You can also store list items in separate variables after the one with the `*`:"
   ],
   "cell_type": "markdown",
   "metadata": {}
  },
  {
   "cell_type": "code",
   "execution_count": 64,
   "metadata": {},
   "outputs": [],
   "source": [
    "a, b, c, *other, d = long_list"
   ]
  },
  {
   "cell_type": "code",
   "execution_count": 65,
   "metadata": {},
   "outputs": [
    {
     "output_type": "execute_result",
     "data": {
      "text/plain": [
       "1"
      ]
     },
     "metadata": {},
     "execution_count": 65
    }
   ],
   "source": [
    "a"
   ]
  },
  {
   "cell_type": "code",
   "execution_count": 66,
   "metadata": {},
   "outputs": [
    {
     "output_type": "execute_result",
     "data": {
      "text/plain": [
       "2"
      ]
     },
     "metadata": {},
     "execution_count": 66
    }
   ],
   "source": [
    "b"
   ]
  },
  {
   "cell_type": "code",
   "execution_count": 67,
   "metadata": {},
   "outputs": [
    {
     "output_type": "execute_result",
     "data": {
      "text/plain": [
       "3"
      ]
     },
     "metadata": {},
     "execution_count": 67
    }
   ],
   "source": [
    "c"
   ]
  },
  {
   "cell_type": "code",
   "execution_count": 68,
   "metadata": {},
   "outputs": [
    {
     "output_type": "execute_result",
     "data": {
      "text/plain": [
       "[4, 5, 6, 7, 8]"
      ]
     },
     "metadata": {},
     "execution_count": 68
    }
   ],
   "source": [
    "other"
   ]
  },
  {
   "cell_type": "code",
   "execution_count": 69,
   "metadata": {},
   "outputs": [
    {
     "output_type": "execute_result",
     "data": {
      "text/plain": [
       "9"
      ]
     },
     "metadata": {},
     "execution_count": 69
    }
   ],
   "source": [
    "d"
   ]
  }
 ]
}